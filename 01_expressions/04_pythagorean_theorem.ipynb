{
  "nbformat": 4,
  "nbformat_minor": 0,
  "metadata": {
    "colab": {
      "provenance": []
    },
    "kernelspec": {
      "name": "python3",
      "display_name": "Python 3"
    },
    "language_info": {
      "name": "python"
    }
  },
  "cells": [
    {
      "cell_type": "code",
      "execution_count": 1,
      "metadata": {
        "colab": {
          "base_uri": "https://localhost:8080/"
        },
        "id": "ntym7gLH4I8S",
        "outputId": "33c3a854-c6a5-41d1-bffd-74bd80af4d2f"
      },
      "outputs": [
        {
          "output_type": "stream",
          "name": "stdout",
          "text": [
            "\n",
            "📏 Pythagorean Theorem Calculator 📏\n",
            "🔹 Enter the length of side AB: 5\n",
            "🔹 Enter the length of side AC: 6\n",
            "\n",
            "✅ The length of BC (the hypotenuse) is: 7.81 units.\n",
            "\n",
            "🔄 Would you like to calculate another hypotenuse? (yes/no): n\n",
            "\n",
            "✅ Thank you for using the Pythagorean Theorem Calculator! 🎯\n"
          ]
        }
      ],
      "source": [
        "import math\n",
        "\n",
        "def calculate_hypotenuse():\n",
        "    \"\"\"\n",
        "    This function prompts the user for the two perpendicular side lengths of a\n",
        "    right triangle and calculates the hypotenuse using the Pythagorean theorem.\n",
        "    \"\"\"\n",
        "    print(\"\\n📏 Pythagorean Theorem Calculator 📏\")\n",
        "\n",
        "    while True:\n",
        "        try:\n",
        "            # Get the two side lengths from the user\n",
        "            ab = float(input(\"🔹 Enter the length of side AB: \"))\n",
        "            ac = float(input(\"🔹 Enter the length of side AC: \"))\n",
        "\n",
        "            # Validate input: length should be positive\n",
        "            if ab <= 0 or ac <= 0:\n",
        "                print(\"❌ Error: Side lengths must be positive numbers. Try again.\")\n",
        "                continue\n",
        "\n",
        "            break  # Exit loop if valid input\n",
        "\n",
        "        except ValueError:\n",
        "            print(\"❌ Error: Please enter a valid number.\")\n",
        "\n",
        "    # Compute the hypotenuse (BC) using the Pythagorean theorem\n",
        "    bc = math.sqrt(ab**2 + ac**2)\n",
        "\n",
        "    # Display result with 2 decimal places\n",
        "    print(f\"\\n✅ The length of BC (the hypotenuse) is: {bc:.2f} units.\\n\")\n",
        "\n",
        "def main():\n",
        "    \"\"\"Main function to run the program.\"\"\"\n",
        "    calculate_hypotenuse()\n",
        "\n",
        "    # Ask the user if they want another calculation\n",
        "    while True:\n",
        "        restart = input(\"🔄 Would you like to calculate another hypotenuse? (yes/no): \").strip().lower()\n",
        "        if restart in [\"yes\", \"y\"]:\n",
        "            calculate_hypotenuse()\n",
        "        elif restart in [\"no\", \"n\"]:\n",
        "            print(\"\\n✅ Thank you for using the Pythagorean Theorem Calculator! 🎯\")\n",
        "            break\n",
        "        else:\n",
        "            print(\"⚠️ Please enter 'yes' or 'no'.\")\n",
        "\n",
        "# Run the program\n",
        "if __name__ == \"__main__\":\n",
        "    main()\n"
      ]
    }
  ]
}