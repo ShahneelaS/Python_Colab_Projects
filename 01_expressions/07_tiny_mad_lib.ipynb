{
  "nbformat": 4,
  "nbformat_minor": 0,
  "metadata": {
    "colab": {
      "provenance": []
    },
    "kernelspec": {
      "name": "python3",
      "display_name": "Python 3"
    },
    "language_info": {
      "name": "python"
    }
  },
  "cells": [
    {
      "cell_type": "code",
      "execution_count": 2,
      "metadata": {
        "colab": {
          "base_uri": "https://localhost:8080/"
        },
        "id": "Emk_EkkM54YV",
        "outputId": "de11e0a0-83e6-41b2-a3a6-14bccbd78ada"
      },
      "outputs": [
        {
          "output_type": "stream",
          "name": "stdout",
          "text": [
            "🎭 Welcome to the Ultimate Mad Libs Game! Get ready to create hilarious and wacky stories! ✨\n",
            "\n",
            "🎨 Please enter an adjective and press Enter: pretty\n",
            "📦 Please enter a noun and press Enter: khizer\n",
            "🏃 Please enter a verb and press Enter: looking\n",
            "\n",
            "✨ Here’s your Mad Libs sentence! ✨\n",
            "📝 Once upon a time, i discovered how to create my pretty khizer that can looking!\n",
            "\n",
            "🔄 Would you like to create another Mad Lib? (yes/y or no/n): y\n",
            "🎨 Please enter an adjective and press Enter: angry\n",
            "📦 Please enter a noun and press Enter: dog\n",
            "🏃 Please enter a verb and press Enter: eat\n",
            "\n",
            "✨ Here’s your Mad Libs sentence! ✨\n",
            "📝 In a magical world, i built a angry dog that can eat!\n",
            "\n",
            "🔄 Would you like to create another Mad Lib? (yes/y or no/n): n\n",
            "\n",
            "👋 Thanks for playing Mad Libs! Have a great day! 😊\n"
          ]
        }
      ],
      "source": [
        "import itertools\n",
        "\n",
        "print(\"🎭 Welcome to the Ultimate Mad Libs Game! Get ready to create hilarious and wacky stories! ✨\\n\")\n",
        "\n",
        "# List of sentence starters (rotating order)\n",
        "SENTENCE_STARTERS = itertools.cycle([\n",
        "    \"Once upon a time, I discovered how to create my \",\n",
        "    \"In a magical world, I built a \",\n",
        "    \"Using Python, I invented a \",\n",
        "    \"I love coding! Today, I designed a \",\n",
        "    \"With a bit of creativity, I created a \",\n",
        "    \"In an alternate universe, my \"\n",
        "])\n",
        "\n",
        "def mad_lib():\n",
        "    \"\"\"Generates a Mad Lib sentence with a rotating sentence starter.\"\"\"\n",
        "    while True:\n",
        "        sentence_start = next(SENTENCE_STARTERS)\n",
        "\n",
        "        adjective: str = input(\"🎨 Please enter an adjective and press Enter: \").strip().lower()\n",
        "        noun: str = input(\"📦 Please enter a noun and press Enter: \").strip().lower()\n",
        "        verb: str = input(\"🏃 Please enter a verb and press Enter: \").strip().lower()\n",
        "\n",
        "        mad_lib_sentence = sentence_start + adjective + \" \" + noun + \" that can \" + verb + \"!\"\n",
        "\n",
        "        print(\"\\n✨ Here’s your Mad Libs sentence! ✨\")\n",
        "        print(f\"📝 {mad_lib_sentence.capitalize()}\\n\")\n",
        "\n",
        "        restart = input(\"🔄 Would you like to create another Mad Lib? (yes/y or no/n): \").strip().lower()\n",
        "        if restart not in [\"yes\", \"y\"]:\n",
        "            print(\"\\n👋 Thanks for playing Mad Libs! Have a great day! 😊\")\n",
        "            break  # Exit the loop\n",
        "\n",
        "if __name__ == \"__main__\":\n",
        "    mad_lib()\n"
      ]
    }
  ]
}