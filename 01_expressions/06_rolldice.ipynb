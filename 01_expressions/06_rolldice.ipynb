{
  "nbformat": 4,
  "nbformat_minor": 0,
  "metadata": {
    "colab": {
      "provenance": []
    },
    "kernelspec": {
      "name": "python3",
      "display_name": "Python 3"
    },
    "language_info": {
      "name": "python"
    }
  },
  "cells": [
    {
      "cell_type": "code",
      "execution_count": 1,
      "metadata": {
        "colab": {
          "base_uri": "https://localhost:8080/"
        },
        "id": "LjL7TA3M5DuQ",
        "outputId": "c51e275b-8c1c-4761-f71e-a8f0656a5323"
      },
      "outputs": [
        {
          "output_type": "stream",
          "name": "stdout",
          "text": [
            "🎲 Welcome to the Roll Dice Simulator! 🎲\n",
            "Get ready to roll two dice and see the results. Let's begin!\n",
            "\n",
            "\n",
            "🎲 First die: 4\n",
            "🎲 Second die: 5\n",
            "🔢 Total of two dice: 9\n",
            "\n",
            "Do you want to roll again? (yes or no): y\n",
            "\n",
            "🎲 First die: 2\n",
            "🎲 Second die: 3\n",
            "🔢 Total of two dice: 5\n",
            "\n",
            "Do you want to roll again? (yes or no): n\n",
            "🎲 Thanks for playing! Goodbye! 👋\n"
          ]
        }
      ],
      "source": [
        "import random\n",
        "\n",
        "print(\"🎲 Welcome to the Roll Dice Simulator! 🎲\")\n",
        "print(\"Get ready to roll two dice and see the results. Let's begin!\\n\")\n",
        "\n",
        "def roll_dice():\n",
        "    \"\"\"Simulate rolling two dice and print the results.\"\"\"\n",
        "    NUM_SIDES = 6  # Defining number of sides on each die\n",
        "\n",
        "    while True:  # Loop to allow rerolling\n",
        "        die1 = random.randint(1, NUM_SIDES)\n",
        "        die2 = random.randint(1, NUM_SIDES)\n",
        "        total = die1 + die2\n",
        "\n",
        "        print(f\"\\n🎲 First die: {die1}\")\n",
        "        print(f\"🎲 Second die: {die2}\")\n",
        "        print(f\"🔢 Total of two dice: {total}\\n\")\n",
        "\n",
        "        # Ask user if they want to roll again\n",
        "        choice = input(\"Do you want to roll again? (yes or no): \").strip().lower()\n",
        "        if choice not in ['yes', 'y']:\n",
        "            print(\"🎲 Thanks for playing! Goodbye! 👋\")\n",
        "            break  # Exit the loop\n",
        "\n",
        "if __name__ == \"__main__\":\n",
        "    roll_dice()\n"
      ]
    }
  ]
}