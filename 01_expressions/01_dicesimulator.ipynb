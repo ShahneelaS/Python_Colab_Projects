{
  "nbformat": 4,
  "nbformat_minor": 0,
  "metadata": {
    "colab": {
      "provenance": []
    },
    "kernelspec": {
      "name": "python3",
      "display_name": "Python 3"
    },
    "language_info": {
      "name": "python"
    }
  },
  "cells": [
    {
      "cell_type": "code",
      "execution_count": 10,
      "metadata": {
        "id": "2iDgJCye0aby",
        "colab": {
          "base_uri": "https://localhost:8080/"
        },
        "outputId": "9c75dc62-a72e-49eb-ac47-d05b03769c61"
      },
      "outputs": [
        {
          "output_type": "stream",
          "name": "stdout",
          "text": [
            "\n",
            "🎩 Welcome to the Dice Simulator! 🎲\n",
            "\n",
            "Enter number of sides for the dice (Press Enter for default 6): \n",
            "\n",
            "🎯 Rolling two dice, three times...\n",
            "\n",
            "\n",
            "🎲 Rolling the dice... 🎲\n",
            "🎯 Die 1: 3 | 🎯 Die 2: 5\n",
            "🎉 Total of two dice: 8\n",
            "\n",
            "🎲 Rolling the dice... 🎲\n",
            "🎯 Die 1: 5 | 🎯 Die 2: 4\n",
            "🎉 Total of two dice: 9\n",
            "\n",
            "🎲 Rolling the dice... 🎲\n",
            "🎯 Die 1: 4 | 🎯 Die 2: 4\n",
            "🎉 Total of two dice: 8\n",
            "\n",
            "🔄 Would you like to roll the dice again? (yes/no): y\n",
            "\n",
            "Enter number of sides for the dice (Press Enter for default 6): \n",
            "\n",
            "🎯 Rolling two dice, three times...\n",
            "\n",
            "\n",
            "🎲 Rolling the dice... 🎲\n",
            "🎯 Die 1: 2 | 🎯 Die 2: 3\n",
            "🎉 Total of two dice: 5\n",
            "\n",
            "🎲 Rolling the dice... 🎲\n",
            "🎯 Die 1: 6 | 🎯 Die 2: 1\n",
            "🎉 Total of two dice: 7\n",
            "\n",
            "🎲 Rolling the dice... 🎲\n",
            "🎯 Die 1: 6 | 🎯 Die 2: 2\n",
            "🎉 Total of two dice: 8\n",
            "\n",
            "🔄 Would you like to roll the dice again? (yes/no): n\n",
            "\n",
            "✅ Thanks for playing! Have a great day! 😊\n"
          ]
        }
      ],
      "source": [
        "import random\n",
        "import time\n",
        "\n",
        "def roll_dice(num_sides: int = 6):\n",
        "    \"\"\"\n",
        "    Simulates rolling two dice and prints their total.\n",
        "    :param num_sides: Number of sides on each die (default is 6).\n",
        "    \"\"\"\n",
        "    die1: int = random.randint(1, num_sides)\n",
        "    die2: int = random.randint(1, num_sides)\n",
        "    total: int = die1 + die2\n",
        "    print(f\"\\n🎲 Rolling the dice... 🎲\")\n",
        "    time.sleep(1)  # Adding a delay for effect\n",
        "    print(f\"🎯 Die 1: {die1} | 🎯 Die 2: {die2}\")\n",
        "    print(f\"🎉 Total of two dice: {total}\")\n",
        "\n",
        "def main():\n",
        "    \"\"\"\n",
        "    Main function to simulate rolling dice three times.\n",
        "    \"\"\"\n",
        "    print(\"\\n🎩 Welcome to the Dice Simulator! 🎲\")\n",
        "\n",
        "    while True:\n",
        "        # Asking user if they want a custom dice size\n",
        "        try:\n",
        "            num_sides = int(input(\"\\nEnter number of sides for the dice (Press Enter for default 6): \") or 6)\n",
        "            if num_sides < 2:\n",
        "                print(\"⚠️ Dice must have at least 2 sides. Setting default (6).\")\n",
        "                num_sides = 6\n",
        "        except ValueError:\n",
        "            print(\"❌ Invalid input! Setting default (6).\")\n",
        "            num_sides = 6\n",
        "\n",
        "        print(\"\\n🎯 Rolling two dice, three times...\\n\")\n",
        "\n",
        "        for _ in range(3):\n",
        "            roll_dice(num_sides)\n",
        "\n",
        "        # Ask if the user wants to roll again\n",
        "        play_again = input(\"\\n🔄 Would you like to roll the dice again? (yes/no): \").strip().lower()\n",
        "        if play_again not in [\"yes\", \"y\"]:\n",
        "            print(\"\\n✅ Thanks for playing! Have a great day! 😊\")\n",
        "            break\n",
        "\n",
        "# Run the program\n",
        "if __name__ == \"__main__\":\n",
        "    main()\n"
      ]
    }
  ]
}