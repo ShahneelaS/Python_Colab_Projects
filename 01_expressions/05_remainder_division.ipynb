{
  "nbformat": 4,
  "nbformat_minor": 0,
  "metadata": {
    "colab": {
      "provenance": []
    },
    "kernelspec": {
      "name": "python3",
      "display_name": "Python 3"
    },
    "language_info": {
      "name": "python"
    }
  },
  "cells": [
    {
      "cell_type": "code",
      "execution_count": 1,
      "metadata": {
        "colab": {
          "base_uri": "https://localhost:8080/"
        },
        "id": "gYYoArew4hkT",
        "outputId": "776c4147-6d17-4f25-81c1-3120cbcab0f7"
      },
      "outputs": [
        {
          "output_type": "stream",
          "name": "stdout",
          "text": [
            "📌 Welcome to the Remainder Division Calculator! 📌\n",
            "\n",
            "🔢 Please enter the dividend (number to be divided): 5\n",
            "🔢 Please enter the divisor (number to divide by): 2\n",
            "✅ The result of the division is: 2 with a remainder of 1\n",
            "\n",
            "🔄 Do you want to calculate again? (yes/no): y\n",
            "🔢 Please enter the dividend (number to be divided): 10\n",
            "🔢 Please enter the divisor (number to divide by): 2\n",
            "✅ The result of the division is: 5 with a remainder of 0\n",
            "\n",
            "🔄 Do you want to calculate again? (yes/no): n\n",
            "👋 Thank you for using the calculator! Goodbye!\n"
          ]
        }
      ],
      "source": [
        "print(\"📌 Welcome to the Remainder Division Calculator! 📌\\n\")\n",
        "\n",
        "def remainder():\n",
        "    while True:  # Loop to restart the program if needed\n",
        "        num1: int = int(input(\"🔢 Please enter the dividend (number to be divided): \"))\n",
        "\n",
        "        # Ensure the divisor is not zero\n",
        "        while True:\n",
        "            num2: int = int(input(\"🔢 Please enter the divisor (number to divide by): \"))\n",
        "            if num2 == 0:\n",
        "                print(\"❌ Error: The divisor cannot be zero. Please enter a valid number!\")\n",
        "            else:\n",
        "                break\n",
        "\n",
        "        quotient: int = num1 // num2  # Integer division\n",
        "        remainder: int = num1 % num2  # Modulo operation\n",
        "\n",
        "        print(f\"✅ The result of the division is: {quotient} with a remainder of {remainder}\\n\")\n",
        "\n",
        "        # Ask the user if they want to restart\n",
        "        restart = input(\"🔄 Do you want to calculate again? (yes/no): \").strip().lower()\n",
        "        if restart in [\"n\", \"no\"]:\n",
        "            print(\"👋 Thank you for using the calculator! Goodbye!\")\n",
        "            break  # Exit the loop and end the program\n",
        "        elif restart in [\"y\", \"yes\"]:\n",
        "            continue  # Restart the loop\n",
        "        else:\n",
        "            print(\"❌ Invalid input! Exiting program.\")\n",
        "            break  # Invalid input, exit program\n",
        "\n",
        "if __name__ == \"__main__\":\n",
        "    remainder()\n"
      ]
    }
  ]
}