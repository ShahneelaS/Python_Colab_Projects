{
  "nbformat": 4,
  "nbformat_minor": 0,
  "metadata": {
    "colab": {
      "provenance": []
    },
    "kernelspec": {
      "name": "python3",
      "display_name": "Python 3"
    },
    "language_info": {
      "name": "python"
    }
  },
  "cells": [
    {
      "cell_type": "code",
      "execution_count": 1,
      "metadata": {
        "colab": {
          "base_uri": "https://localhost:8080/"
        },
        "id": "1KhHTEe15epy",
        "outputId": "f4b35b79-bf4a-4837-feba-2e3c4a055cf5"
      },
      "outputs": [
        {
          "output_type": "stream",
          "name": "stdout",
          "text": [
            "\n",
            "⏳ Welcome to the Seconds in a Year Calculator! ⏳\n",
            "\n",
            "Do you want to calculate for a normal year (365 days) or a leap year (366 days)? (normal/leap): leap\n",
            "\n",
            "✅ There are 31,622,400 seconds in a leap year! 🌟\n",
            "\n",
            "🔄 Would you like to calculate again? (yes/y or no/n): y\n",
            "\n",
            "Do you want to calculate for a normal year (365 days) or a leap year (366 days)? (normal/leap): normal\n",
            "\n",
            "✅ There are 31,536,000 seconds in a normal year! 🕒\n",
            "\n",
            "🔄 Would you like to calculate again? (yes/y or no/n): n\n",
            "\n",
            "👋 Thank you for using the calculator! Have a great day! 😊\n"
          ]
        }
      ],
      "source": [
        "\"\"\"\n",
        "This program calculates the number of seconds in a year\n",
        "by multiplying days, hours, minutes, and seconds.\n",
        "\n",
        "It also provides an option to calculate seconds for a leap year (366 days).\n",
        "\"\"\"\n",
        "\n",
        "# Constants\n",
        "DAYS_IN_YEAR: int = 365\n",
        "DAYS_IN_LEAP_YEAR: int = 366\n",
        "HOURS_PER_DAY: int = 24\n",
        "MINUTES_PER_HOUR: int = 60\n",
        "SECONDS_PER_MINUTE: int = 60\n",
        "\n",
        "def calculate_seconds(days: int) -> int:\n",
        "    \"\"\"Calculates the total number of seconds in the given number of days.\"\"\"\n",
        "    return days * HOURS_PER_DAY * MINUTES_PER_HOUR * SECONDS_PER_MINUTE\n",
        "\n",
        "def main():\n",
        "    \"\"\"Main function to calculate seconds in a normal or leap year.\"\"\"\n",
        "    print(\"\\n⏳ Welcome to the Seconds in a Year Calculator! ⏳\")\n",
        "\n",
        "    while True:\n",
        "        # Ask the user if they want normal year or leap year\n",
        "        choice = input(\"\\nDo you want to calculate for a normal year (365 days) or a leap year (366 days)? (normal/leap): \").strip().lower()\n",
        "\n",
        "        if choice == \"leap\":\n",
        "            total_seconds = calculate_seconds(DAYS_IN_LEAP_YEAR)\n",
        "            print(f\"\\n✅ There are {total_seconds:,} seconds in a leap year! 🌟\")\n",
        "        elif choice == \"normal\":\n",
        "            total_seconds = calculate_seconds(DAYS_IN_YEAR)\n",
        "            print(f\"\\n✅ There are {total_seconds:,} seconds in a normal year! 🕒\")\n",
        "        else:\n",
        "            print(\"❌ Invalid choice! Please enter 'normal' or 'leap'.\")\n",
        "            continue  # Ask again if invalid\n",
        "\n",
        "        # Ask user if they want to calculate again\n",
        "        restart = input(\"\\n🔄 Would you like to calculate again? (yes/y or no/n): \").strip().lower()\n",
        "        if restart not in [\"yes\", \"y\"]:\n",
        "            print(\"\\n👋 Thank you for using the calculator! Have a great day! 😊\")\n",
        "            break  # Exit the loop\n",
        "\n",
        "# Run the program\n",
        "if __name__ == \"__main__\":\n",
        "    main()\n"
      ]
    }
  ]
}