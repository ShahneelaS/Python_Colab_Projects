{
  "nbformat": 4,
  "nbformat_minor": 0,
  "metadata": {
    "colab": {
      "provenance": []
    },
    "kernelspec": {
      "name": "python3",
      "display_name": "Python 3"
    },
    "language_info": {
      "name": "python"
    }
  },
  "cells": [
    {
      "cell_type": "code",
      "execution_count": 1,
      "metadata": {
        "colab": {
          "base_uri": "https://localhost:8080/"
        },
        "id": "Nxibuxod3tww",
        "outputId": "2e8fd157-473c-4d13-a8ca-9d7a0303ac31"
      },
      "outputs": [
        {
          "output_type": "stream",
          "name": "stdout",
          "text": [
            "\n",
            "📏 Welcome to the Feet to Inches Converter! 📏\n",
            "\n",
            "🔢 Enter the number of feet: 6\n",
            "✅ 6 feet is equal to 72 inches.\n",
            "\n",
            "🔄 Would you like to convert another value? (yes/no): y\n",
            "\n",
            "🔢 Enter the number of feet: 3\n",
            "✅ 3 feet is equal to 36 inches.\n",
            "\n",
            "🔄 Would you like to convert another value? (yes/no): n\n",
            "\n",
            "✅ Thank you for using the converter! Have a great day! 😊\n"
          ]
        }
      ],
      "source": [
        "\"\"\"\n",
        "This program converts a given length in feet to inches.\n",
        "It correctly handles singular & plural forms in output.\n",
        "\n",
        "Conversion: 1 foot = 12 inches\n",
        "\"\"\"\n",
        "\n",
        "# Define conversion factor as a constant\n",
        "INCHES_IN_FOOT: int = 12\n",
        "\n",
        "def convert_feet_to_inches():\n",
        "    \"\"\"Converts user input from feet to inches and displays the result.\"\"\"\n",
        "    while True:\n",
        "        try:\n",
        "            feet = float(input(\"\\n🔢 Enter the number of feet: \"))\n",
        "            if feet < 0:\n",
        "                print(\"⚠️ Length cannot be negative. Please enter a positive number.\")\n",
        "                continue\n",
        "            break\n",
        "        except ValueError:\n",
        "            print(\"❌ Invalid input! Please enter a numerical value.\")\n",
        "\n",
        "    # Perform the conversion\n",
        "    inches = feet * INCHES_IN_FOOT\n",
        "\n",
        "    # Convert to int if the result is a whole number (e.g., 5.0 → 5)\n",
        "    feet = int(feet) if feet.is_integer() else feet\n",
        "    inches = int(inches) if inches.is_integer() else inches\n",
        "\n",
        "    # Correctly handle singular & plural output\n",
        "    unit_feet = \"foot\" if feet == 1 else \"feet\"\n",
        "    unit_inches = \"inch\" if inches == 1 else \"inches\"\n",
        "\n",
        "    # Display result\n",
        "    print(f\"✅ {feet} {unit_feet} is equal to {inches} {unit_inches}.\")\n",
        "\n",
        "def main():\n",
        "    \"\"\"Main function to run the converter with an option to repeat.\"\"\"\n",
        "    print(\"\\n📏 Welcome to the Feet to Inches Converter! 📏\")\n",
        "\n",
        "    while True:\n",
        "        convert_feet_to_inches()\n",
        "\n",
        "        # Ask the user if they want another conversion\n",
        "        restart = input(\"\\n🔄 Would you like to convert another value? (yes/no): \").strip().lower()\n",
        "        if restart not in [\"yes\", \"y\"]:\n",
        "            print(\"\\n✅ Thank you for using the converter! Have a great day! 😊\")\n",
        "            break\n",
        "\n",
        "# Run the program\n",
        "if __name__ == '__main__':\n",
        "    main()\n"
      ]
    }
  ]
}