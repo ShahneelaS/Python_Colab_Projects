{
  "nbformat": 4,
  "nbformat_minor": 0,
  "metadata": {
    "colab": {
      "provenance": []
    },
    "kernelspec": {
      "name": "python3",
      "display_name": "Python 3"
    },
    "language_info": {
      "name": "python"
    }
  },
  "cells": [
    {
      "cell_type": "code",
      "execution_count": 1,
      "metadata": {
        "colab": {
          "base_uri": "https://localhost:8080/"
        },
        "id": "q2wS5X8VF--Y",
        "outputId": "cd7e4e05-4a5e-4033-f07e-93da45eb6141"
      },
      "outputs": [
        {
          "output_type": "stream",
          "name": "stdout",
          "text": [
            "📝 Please type the following affirmation: \n",
            "👉 I am capable of doing anything I put my mind to.\n",
            "\n",
            "✍️ Your input: I am capable of doing anything I put my mind to\n",
            "❌ That was not the affirmation. Please try again.\n",
            "\n",
            "✍️ Your input: I am capable of doing anything I put my mind to.\n",
            "🎉 That's right! Keep believing in yourself! 😊\n"
          ]
        }
      ],
      "source": [
        "# 📌 Predefined affirmation\n",
        "AFFIRMATION: str = \"I am capable of doing anything I put my mind to.\"\n",
        "\n",
        "def get_affirmation():\n",
        "    \"\"\"Prompts the user to type the affirmation correctly.\"\"\"\n",
        "    print(f\"📝 Please type the following affirmation: \\n👉 {AFFIRMATION}\\n\")\n",
        "\n",
        "    while True:\n",
        "        user_input: str = input(\"✍️ Your input: \")\n",
        "\n",
        "        if user_input.strip() == AFFIRMATION:  # ✅ Check for correct input (strip removes extra spaces)\n",
        "            print(\"🎉 That's right! Keep believing in yourself! 😊\")\n",
        "            break  # ✅ Exit the loop if correct\n",
        "        else:\n",
        "            print(\"❌ That was not the affirmation. Please try again.\\n\")\n",
        "\n",
        "# 🚀 Main function\n",
        "def main():\n",
        "    get_affirmation()\n",
        "\n",
        "# 🔥 Run the program\n",
        "if __name__ == \"__main__\":\n",
        "    main()\n"
      ]
    }
  ]
}