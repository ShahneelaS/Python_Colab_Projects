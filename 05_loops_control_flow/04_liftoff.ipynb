{
  "nbformat": 4,
  "nbformat_minor": 0,
  "metadata": {
    "colab": {
      "provenance": []
    },
    "kernelspec": {
      "name": "python3",
      "display_name": "Python 3"
    },
    "language_info": {
      "name": "python"
    }
  },
  "cells": [
    {
      "cell_type": "code",
      "execution_count": 1,
      "metadata": {
        "colab": {
          "base_uri": "https://localhost:8080/"
        },
        "id": "Hwbgghz-Gu2S",
        "outputId": "2a8fe0f8-5995-43c1-dea2-f9940e110608"
      },
      "outputs": [
        {
          "output_type": "stream",
          "name": "stdout",
          "text": [
            "🛸 Initiating spaceship countdown...\n",
            "10 9 8 7 6 5 4 3 2 1 🚀 Liftoff!\n"
          ]
        }
      ],
      "source": [
        "import time  # ⏳ Importing time module to add a delay for effect\n",
        "\n",
        "def countdown():\n",
        "    \"\"\"🚀 Prints a countdown from 10 to 1, then prints 'Liftoff!'.\"\"\"\n",
        "    print(\"🛸 Initiating spaceship countdown...\")\n",
        "\n",
        "    for i in range(10, 0, -1):  # 🔄 Loop from 10 down to 1\n",
        "        print(i, end=\" \", flush=True)  # ✅ Print countdown on same line\n",
        "        time.sleep(1)  # ⏳ Pause for 1 second (to simulate real countdown)\n",
        "\n",
        "    print(\"🚀 Liftoff!\")  # ✅ Final liftoff message\n",
        "\n",
        "# 🚀 Main function\n",
        "def main():\n",
        "    countdown()\n",
        "\n",
        "# 🔥 Run the program\n",
        "if __name__ == \"__main__\":\n",
        "    main()\n"
      ]
    }
  ]
}