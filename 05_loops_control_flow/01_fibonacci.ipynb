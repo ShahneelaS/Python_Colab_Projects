{
  "nbformat": 4,
  "nbformat_minor": 0,
  "metadata": {
    "colab": {
      "provenance": []
    },
    "kernelspec": {
      "name": "python3",
      "display_name": "Python 3"
    },
    "language_info": {
      "name": "python"
    }
  },
  "cells": [
    {
      "cell_type": "code",
      "execution_count": 1,
      "metadata": {
        "colab": {
          "base_uri": "https://localhost:8080/"
        },
        "id": "6kplDhFFFknR",
        "outputId": "92369972-c44f-4a5d-8145-6658848b37fb"
      },
      "outputs": [
        {
          "output_type": "stream",
          "name": "stdout",
          "text": [
            "📈 Fibonacci Sequence up to 10000 📈\n",
            "\n",
            "0 1 1 2 3 5 8 13 21 34 55 89 144 233 377 610 987 1597 2584 4181 6765 \n",
            "\n",
            "✅ Fibonacci sequence generation complete!\n"
          ]
        }
      ],
      "source": [
        "# 📌 Maximum value for Fibonacci sequence\n",
        "MAX_VALUE = 10000\n",
        "\n",
        "def generate_fibonacci():\n",
        "    \"\"\"Generates and prints Fibonacci numbers up to MAX_VALUE.\"\"\"\n",
        "    fib1, fib2 = 0, 1  # First two Fibonacci numbers\n",
        "\n",
        "    print(\"📈 Fibonacci Sequence up to\", MAX_VALUE, \"📈\\n\")\n",
        "\n",
        "    while fib1 <= MAX_VALUE:\n",
        "        print(fib1, end=\" \")  # Print the number in a single line\n",
        "        fib1, fib2 = fib2, fib1 + fib2  # Update Fibonacci numbers\n",
        "\n",
        "    print(\"\\n\\n✅ Fibonacci sequence generation complete!\")  # Completion message\n",
        "\n",
        "# 🚀 Main Function\n",
        "def main():\n",
        "    generate_fibonacci()\n",
        "\n",
        "# 🔥 Run the program\n",
        "if __name__ == \"__main__\":\n",
        "    main()\n"
      ]
    }
  ]
}