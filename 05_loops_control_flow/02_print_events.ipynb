{
  "nbformat": 4,
  "nbformat_minor": 0,
  "metadata": {
    "colab": {
      "provenance": []
    },
    "kernelspec": {
      "name": "python3",
      "display_name": "Python 3"
    },
    "language_info": {
      "name": "python"
    }
  },
  "cells": [
    {
      "cell_type": "code",
      "execution_count": 1,
      "metadata": {
        "colab": {
          "base_uri": "https://localhost:8080/"
        },
        "id": "FjeXfop1F3PN",
        "outputId": "7dac8039-d965-4533-eeef-6da7247d9723"
      },
      "outputs": [
        {
          "output_type": "stream",
          "name": "stdout",
          "text": [
            "🔢 First 20 Even Numbers 🔢\n",
            "\n",
            "0 2 4 6 8 10 12 14 16 18 20 22 24 26 28 30 32 34 36 38\n",
            "\n",
            "✅ Successfully printed the first 20 even numbers.\n"
          ]
        }
      ],
      "source": [
        "# 📌 Number of even numbers to generate\n",
        "NUM_EVEN_NUMBERS = 20\n",
        "\n",
        "def print_even_numbers():\n",
        "    \"\"\"Prints the first 20 even numbers.\"\"\"\n",
        "    print(\"🔢 First\", NUM_EVEN_NUMBERS, \"Even Numbers 🔢\\n\")\n",
        "\n",
        "    even_numbers = [str(2 * i) for i in range(NUM_EVEN_NUMBERS)]  # Generate and convert to string\n",
        "    print(\" \".join(even_numbers))  # Print in one line\n",
        "\n",
        "    print(\"\\n✅ Successfully printed the first\", NUM_EVEN_NUMBERS, \"even numbers.\")\n",
        "\n",
        "# 🚀 Main Function\n",
        "def main():\n",
        "    print_even_numbers()\n",
        "\n",
        "# 🔥 Run the program\n",
        "if __name__ == \"__main__\":\n",
        "    main()\n"
      ]
    }
  ]
}