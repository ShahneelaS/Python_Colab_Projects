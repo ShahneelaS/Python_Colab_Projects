{
  "nbformat": 4,
  "nbformat_minor": 0,
  "metadata": {
    "colab": {
      "provenance": []
    },
    "kernelspec": {
      "name": "python3",
      "display_name": "Python 3"
    },
    "language_info": {
      "name": "python"
    }
  },
  "cells": [
    {
      "cell_type": "code",
      "execution_count": 1,
      "metadata": {
        "colab": {
          "base_uri": "https://localhost:8080/"
        },
        "id": "O2jOTieBFHFd",
        "outputId": "abae8c47-d9a9-4f3b-989a-2fd24f496fcf"
      },
      "outputs": [
        {
          "output_type": "stream",
          "name": "stdout",
          "text": [
            "\n",
            "🎯 Welcome to 'Guess My Number' Game! 🎯\n",
            "I am thinking of a number between 0 and 99...\n",
            "\n",
            "🔢 Enter your guess: 50\n",
            "📈 Your guess is too high. Try again!\n",
            "🔢 Enter your guess: 40\n",
            "📈 Your guess is too high. Try again!\n",
            "🔢 Enter your guess: 30\n",
            "📈 Your guess is too high. Try again!\n",
            "🔢 Enter your guess: 20\n",
            "📈 Your guess is too high. Try again!\n",
            "🔢 Enter your guess: 10\n",
            "📉 Your guess is too low. Try again!\n",
            "🔢 Enter your guess: 12\n",
            "📉 Your guess is too low. Try again!\n",
            "🔢 Enter your guess: 15\n",
            "📉 Your guess is too low. Try again!\n",
            "🔢 Enter your guess: 18\n",
            "📈 Your guess is too high. Try again!\n",
            "🔢 Enter your guess: 17\n",
            "\n",
            "🎉 Congrats! The number was: 17 🎉\n"
          ]
        }
      ],
      "source": [
        "import random\n",
        "\n",
        "def guess_my_number():\n",
        "    \"\"\" A number guessing game where the user tries to guess a randomly generated number. \"\"\"\n",
        "\n",
        "    secret_number = random.randint(0, 99)  # Generate a random number between 0 and 99\n",
        "    print(\"\\n🎯 Welcome to 'Guess My Number' Game! 🎯\")\n",
        "    print(\"I am thinking of a number between 0 and 99...\\n\")\n",
        "\n",
        "    while True:\n",
        "        try:\n",
        "            guess = int(input(\"🔢 Enter your guess: \"))  # User input\n",
        "\n",
        "            if guess < 0 or guess > 99:\n",
        "                print(\"⚠️ Please enter a number between 0 and 99!\")\n",
        "            elif guess < secret_number:\n",
        "                print(\"📉 Your guess is too low. Try again!\")\n",
        "            elif guess > secret_number:\n",
        "                print(\"📈 Your guess is too high. Try again!\")\n",
        "            else:\n",
        "                print(f\"\\n🎉 Congrats! The number was: {secret_number} 🎉\")\n",
        "                break  # Exit the loop when the correct number is guessed\n",
        "        except ValueError:\n",
        "            print(\"❌ Invalid input! Please enter a valid number.\")\n",
        "\n",
        "if __name__ == \"__main__\":\n",
        "    guess_my_number()"
      ]
    }
  ]
}