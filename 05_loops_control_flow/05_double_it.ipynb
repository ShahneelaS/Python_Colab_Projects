{
  "nbformat": 4,
  "nbformat_minor": 0,
  "metadata": {
    "colab": {
      "provenance": []
    },
    "kernelspec": {
      "name": "python3",
      "display_name": "Python 3"
    },
    "language_info": {
      "name": "python"
    }
  },
  "cells": [
    {
      "cell_type": "code",
      "execution_count": 1,
      "metadata": {
        "colab": {
          "base_uri": "https://localhost:8080/"
        },
        "id": "ZDZvsIuoHAQ2",
        "outputId": "3303c86f-27ba-4d5e-89aa-6a03b0efe57e"
      },
      "outputs": [
        {
          "output_type": "stream",
          "name": "stdout",
          "text": [
            "🔢 Enter a number: 8\n",
            "\n",
            "📈 Doubling process (1 second delay per step):\n",
            "16 32 64 128 \n",
            "🎯 Stopping as the number has reached or exceeded 100!\n"
          ]
        }
      ],
      "source": [
        "import time\n",
        "\n",
        "def double_until_100():\n",
        "    \"\"\"🧮 Repeatedly doubles a user-provided number until it reaches or exceeds 100, with a delay.\"\"\"\n",
        "\n",
        "    curr_value = float(input(\"🔢 Enter a number: \"))  # ✅ Get input from the user\n",
        "\n",
        "    print(\"\\n📈 Doubling process (1 second delay per step):\")\n",
        "\n",
        "    while curr_value < 100:  # ✅ Loop until curr_value is 100 or more\n",
        "        curr_value *= 2  # 🔄 Double the current value\n",
        "        print(int(curr_value), end=\" \", flush=True)  # ✅ Print numbers on the same line\n",
        "        time.sleep(1)  # ⏳ Add a 1-second delay between each doubling step\n",
        "\n",
        "    print(\"\\n🎯 Stopping as the number has reached or exceeded 100!\")\n",
        "\n",
        "# 🔥 Main function\n",
        "def main():\n",
        "    double_until_100()\n",
        "\n",
        "# 🏁 Run the program\n",
        "if __name__ == \"__main__\":\n",
        "    main()\n"
      ]
    }
  ]
}