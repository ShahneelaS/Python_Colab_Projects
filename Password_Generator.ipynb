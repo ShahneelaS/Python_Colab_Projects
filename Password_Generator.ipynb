{
  "nbformat": 4,
  "nbformat_minor": 0,
  "metadata": {
    "colab": {
      "provenance": []
    },
    "kernelspec": {
      "name": "python3",
      "display_name": "Python 3"
    },
    "language_info": {
      "name": "python"
    }
  },
  "cells": [
    {
      "cell_type": "code",
      "execution_count": 6,
      "metadata": {
        "colab": {
          "base_uri": "https://localhost:8080/"
        },
        "id": "PN4tmUGVvPbQ",
        "outputId": "93543e8d-da3f-4ed3-e0bc-9df36c1430ae"
      },
      "outputs": [
        {
          "output_type": "stream",
          "name": "stdout",
          "text": [
            "🔐 Enter password length (numbers only): 5\n",
            "🔑 Generated Password: 3t=T!\n"
          ]
        }
      ],
      "source": [
        "import random\n",
        "import string\n",
        "\n",
        "# 🔑 Function to generate a password\n",
        "def generate_password(length=12):\n",
        "    characters = string.ascii_letters + string.digits + string.punctuation\n",
        "    return ''.join(random.choice(characters) for _ in range(length))\n",
        "\n",
        "# 🛡 Ask user for password length with error handling\n",
        "while True:\n",
        "    try:\n",
        "        length = int(input(\"🔐 Enter password length (numbers only): \"))\n",
        "        if length <= 0:\n",
        "            print(\"⚠ Please enter a positive number.\")\n",
        "            continue\n",
        "        break\n",
        "    except ValueError:\n",
        "        print(\"⚠ Invalid input! Please enter a **number**.\")\n",
        "\n",
        "# Generate and display password\n",
        "password = generate_password(length)\n",
        "print(f\"🔑 Generated Password: {password}\")\n"
      ]
    }
  ]
}