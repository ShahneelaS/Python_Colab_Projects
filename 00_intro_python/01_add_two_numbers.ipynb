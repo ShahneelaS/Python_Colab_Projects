{
  "nbformat": 4,
  "nbformat_minor": 0,
  "metadata": {
    "colab": {
      "provenance": []
    },
    "kernelspec": {
      "name": "python3",
      "display_name": "Python 3"
    },
    "language_info": {
      "name": "python"
    }
  },
  "cells": [
    {
      "cell_type": "code",
      "execution_count": 1,
      "metadata": {
        "colab": {
          "base_uri": "https://localhost:8080/"
        },
        "id": "8NQUtO4UbJxc",
        "outputId": "d9906b6f-7aec-4dcd-d11e-c4a5094947cf"
      },
      "outputs": [
        {
          "output_type": "stream",
          "name": "stdout",
          "text": [
            "This application is designed to perform the addition of two numbers efficiently and accurately.\n",
            "Enter the first number 4\n",
            "Enter the second number 6\n",
            "The total sum of 4 and 6 is 10\n"
          ]
        }
      ],
      "source": [
        "def add():\n",
        "  print(\"This application is designed to perform the addition of two numbers efficiently and accurately.\")\n",
        "  first_number = int(input(\"Enter the first number \"))\n",
        "  second_number = int(input(\"Enter the second number \"))\n",
        "  total = int(first_number + second_number)\n",
        "  print(f'The total sum of {first_number} and {second_number} is {total}')\n",
        "\n",
        "if __name__ == \"__main__\":\n",
        "  add()"
      ]
    }
  ]
}