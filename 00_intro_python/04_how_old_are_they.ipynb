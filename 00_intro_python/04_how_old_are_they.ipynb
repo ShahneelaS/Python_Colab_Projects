{
  "nbformat": 4,
  "nbformat_minor": 0,
  "metadata": {
    "colab": {
      "provenance": []
    },
    "kernelspec": {
      "name": "python3",
      "display_name": "Python 3"
    },
    "language_info": {
      "name": "python"
    }
  },
  "cells": [
    {
      "cell_type": "code",
      "execution_count": 3,
      "metadata": {
        "colab": {
          "base_uri": "https://localhost:8080/"
        },
        "id": "SULt6Chpdp4w",
        "outputId": "16294424-2798-45d7-b246-916e3e20f4eb"
      },
      "outputs": [
        {
          "output_type": "stream",
          "name": "stdout",
          "text": [
            "Anas is 11\n",
            "Roham is 17\n",
            "Taimoor is 37\n",
            "Khizer is 48\n",
            "Fahim is 48\n"
          ]
        }
      ],
      "source": [
        "def add_ages():\n",
        "    anas = 11  # Anas's age is given\n",
        "    roham = anas + 6  # Roham is 6 years older\n",
        "    taimoor = roham + 20  # Taimoor is 20 years older than Roham\n",
        "    khizer = anas + taimoor  # Khizer is Taimoor's age plus anas's age\n",
        "    fahim = khizer  # Fahim is the same age as Khizer\n",
        "\n",
        "    # Print all ages\n",
        "    print(\"Anas is \" + str(anas))\n",
        "    print(\"Roham is \" + str(roham))\n",
        "    print(\"Taimoor is \" + str(taimoor))\n",
        "    print(\"Khizer is \" + str(khizer))\n",
        "    print(\"Fahim is \" + str(fahim))\n",
        "\n",
        "if __name__ == \"__main__\":\n",
        "    add_ages()"
      ]
    }
  ]
}