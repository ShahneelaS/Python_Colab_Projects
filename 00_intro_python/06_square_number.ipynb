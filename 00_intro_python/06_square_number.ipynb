{
  "nbformat": 4,
  "nbformat_minor": 0,
  "metadata": {
    "colab": {
      "provenance": []
    },
    "kernelspec": {
      "name": "python3",
      "display_name": "Python 3"
    },
    "language_info": {
      "name": "python"
    }
  },
  "cells": [
    {
      "cell_type": "code",
      "execution_count": 1,
      "metadata": {
        "colab": {
          "base_uri": "https://localhost:8080/"
        },
        "id": "QyiN6129kDN6",
        "outputId": "71cdd02b-6cc9-403f-90ea-8a2c84e796e9"
      },
      "outputs": [
        {
          "output_type": "stream",
          "name": "stdout",
          "text": [
            "Enter any number and I will give you a square value: 4\n",
            "The square of 4 is 16\n"
          ]
        }
      ],
      "source": [
        "def square():\n",
        "    try:\n",
        "        num1: int = int(input(\"Enter any number and I will give you a square value: \"))\n",
        "        print(f\"The square of {num1} is {num1 ** 2}\")\n",
        "    except ValueError:\n",
        "        print(\"Invalid input! Please enter a numeric value.\")\n",
        "\n",
        "if __name__ == \"__main__\":\n",
        "    square()"
      ]
    }
  ]
}