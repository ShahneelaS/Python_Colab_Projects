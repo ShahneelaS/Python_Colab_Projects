{
  "nbformat": 4,
  "nbformat_minor": 0,
  "metadata": {
    "colab": {
      "provenance": []
    },
    "kernelspec": {
      "name": "python3",
      "display_name": "Python 3"
    },
    "language_info": {
      "name": "python"
    }
  },
  "cells": [
    {
      "cell_type": "code",
      "execution_count": 1,
      "metadata": {
        "colab": {
          "base_uri": "https://localhost:8080/"
        },
        "id": "IvtOrd6Lc-Ja",
        "outputId": "3b344a62-d9b9-4abc-d60d-26f24062ef28"
      },
      "outputs": [
        {
          "output_type": "stream",
          "name": "stdout",
          "text": [
            "Converts Fahrenheit to Celsius with accuracy and efficiency.\n",
            "Enter temperature in Fahrenheit: 67\n",
            "Temperature: 67.0F = 19.444444444444443C\n"
          ]
        }
      ],
      "source": [
        "def temp():\n",
        "  print(\"Converts Fahrenheit to Celsius with accuracy and efficiency.\")\n",
        "  fahrenheit_degree = float(input(\"Enter temperature in Fahrenheit: \"))\n",
        "  celsius_degree = (fahrenheit_degree - 32) * 5.0/9.0\n",
        "  print(f'Temperature: {fahrenheit_degree}F = {celsius_degree}C')\n",
        "\n",
        "if __name__ == \"__main__\":\n",
        "  temp()"
      ]
    }
  ]
}