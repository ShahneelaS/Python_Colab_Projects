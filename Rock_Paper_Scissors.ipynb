{
  "nbformat": 4,
  "nbformat_minor": 0,
  "metadata": {
    "colab": {
      "provenance": []
    },
    "kernelspec": {
      "name": "python3",
      "display_name": "Python 3"
    },
    "language_info": {
      "name": "python"
    }
  },
  "cells": [
    {
      "cell_type": "code",
      "execution_count": null,
      "metadata": {
        "id": "_KQhCKsA_2-6",
        "colab": {
          "base_uri": "https://localhost:8080/"
        },
        "outputId": "8d3b29a2-d853-4bb3-faba-cb4ebef30acc"
      },
      "outputs": [
        {
          "output_type": "stream",
          "name": "stdout",
          "text": [
            "🎮 Welcome to Rock, Paper, Scissors Game!\n",
            "Choose: Rock, Paper, or Scissors. Type 'exit' to quit.\n",
            "👉 Enter your choice: paper\n",
            "🤖 Computer chose: Scissors\n",
            "😞 You Lose! Better luck next time.\n",
            "\n",
            "👉 Enter your choice: scissors\n",
            "🤖 Computer chose: Scissors\n",
            "🤝 It's a Tie!\n",
            "\n",
            "👉 Enter your choice: exit\n",
            "👋 Thanks for playing! See you next time.\n"
          ]
        }
      ],
      "source": [
        "import random\n",
        "\n",
        "# 🎮 Available choices\n",
        "choices = [\"rock\", \"paper\", \"scissors\"]\n",
        "\n",
        "print(\"🎮 Welcome to Rock, Paper, Scissors Game!\")\n",
        "print(\"Choose: Rock, Paper, or Scissors. Type 'exit' to quit.\")\n",
        "\n",
        "# Game loop\n",
        "while True:\n",
        "    # 🧑 User input\n",
        "    user_choice = input(\"👉 Enter your choice: \").lower()\n",
        "\n",
        "    # 🚪 Exit condition\n",
        "    if user_choice == \"exit\":\n",
        "        print(\"👋 Thanks for playing! See you next time.\")\n",
        "        break\n",
        "\n",
        "    # 🚫 Check for valid input\n",
        "    if user_choice not in choices:\n",
        "        print(\"⚠ Invalid choice! Please enter Rock, Paper, or Scissors.\\n\")\n",
        "        continue\n",
        "\n",
        "    # 🤖 Computer choice\n",
        "    computer_choice = random.choice(choices)\n",
        "    print(f\"🤖 Computer chose: {computer_choice.capitalize()}\")\n",
        "\n",
        "    # 🏆 Determine the winner\n",
        "    if user_choice == computer_choice:\n",
        "        print(\"🤝 It's a Tie!\\n\")\n",
        "    elif (user_choice == \"rock\" and computer_choice == \"scissors\") or \\\n",
        "         (user_choice == \"paper\" and computer_choice == \"rock\") or \\\n",
        "         (user_choice == \"scissors\" and computer_choice == \"paper\"):\n",
        "        print(\"🎉 You Win! 🏆\\n\")\n",
        "    else:\n",
        "        print(\"😞 You Lose! Better luck next time.\\n\")\n"
      ]
    }
  ]
}