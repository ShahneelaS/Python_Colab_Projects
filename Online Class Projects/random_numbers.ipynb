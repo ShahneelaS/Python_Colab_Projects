{
  "nbformat": 4,
  "nbformat_minor": 0,
  "metadata": {
    "colab": {
      "provenance": []
    },
    "kernelspec": {
      "name": "python3",
      "display_name": "Python 3"
    },
    "language_info": {
      "name": "python"
    }
  },
  "cells": [
    {
      "cell_type": "code",
      "execution_count": 1,
      "metadata": {
        "colab": {
          "base_uri": "https://localhost:8080/"
        },
        "id": "2VRNt_HZ0C7x",
        "outputId": "b590c668-e1a5-4941-c679-b9f2929f9609"
      },
      "outputs": [
        {
          "output_type": "stream",
          "name": "stdout",
          "text": [
            "\n",
            "🔢 Generating 10 Random Numbers:\n",
            "55 34 45 4 95 26 92 48 65 52\n"
          ]
        }
      ],
      "source": [
        "import random\n",
        "\n",
        "# Constants\n",
        "N_NUMBERS: int = 10  # ✅ Number of random numbers to generate\n",
        "MIN_VALUE: int = 1    # ✅ Minimum range value\n",
        "MAX_VALUE: int = 100  # ✅ Maximum range value\n",
        "\n",
        "def generate_random_numbers():\n",
        "    \"\"\" 🎯 Generates and prints 10 random numbers between 1 and 100. \"\"\"\n",
        "    random_numbers = [random.randint(MIN_VALUE, MAX_VALUE) for _ in range(N_NUMBERS)]\n",
        "    print(\" \".join(map(str, random_numbers)))  # ✅ Print numbers in a single line\n",
        "\n",
        "# 🏁 Run the program\n",
        "if __name__ == \"__main__\":\n",
        "    print(\"\\n🔢 Generating 10 Random Numbers:\")\n",
        "    generate_random_numbers()\n"
      ]
    }
  ]
}