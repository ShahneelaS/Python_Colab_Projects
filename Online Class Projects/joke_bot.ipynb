{
  "nbformat": 4,
  "nbformat_minor": 0,
  "metadata": {
    "colab": {
      "provenance": []
    },
    "kernelspec": {
      "name": "python3",
      "display_name": "Python 3"
    },
    "language_info": {
      "name": "python"
    }
  },
  "cells": [
    {
      "cell_type": "code",
      "execution_count": 1,
      "metadata": {
        "colab": {
          "base_uri": "https://localhost:8080/"
        },
        "id": "sCQ52dROuP9f",
        "outputId": "1e6aab59-0087-478d-a292-cd164de6f8b5"
      },
      "outputs": [
        {
          "output_type": "stream",
          "name": "stdout",
          "text": [
            "🗨️ What do you want? joke\n",
            "😂 Here is a joke for you!\n",
            "\n",
            "👩 Sophia is heading out to the grocery store.\n",
            "👨‍💻 A programmer tells her: \"Get a liter of milk, and if they have eggs, get 12.\"\n",
            "🏪 Sophia returns with 13 liters of milk.\n",
            "🤔 The programmer asks why.\n",
            "🗨️ Sophia replies: \"Because they had eggs!\" \n"
          ]
        }
      ],
      "source": [
        "# 🎭 Constants\n",
        "PROMPT: str = \"🗨️ What do you want? \"\n",
        "JOKE: str = \"\"\"😂 Here is a joke for you!\n",
        "\n",
        "👩 Sophia is heading out to the grocery store.\n",
        "👨‍💻 A programmer tells her: \"Get a liter of milk, and if they have eggs, get 12.\"\n",
        "🏪 Sophia returns with 13 liters of milk.\n",
        "🤔 The programmer asks why.\n",
        "🗨️ Sophia replies: \"Because they had eggs!\" \"\"\"\n",
        "SORRY: str = \"❌ Sorry, I only tell jokes.\"\n",
        "\n",
        "def main():\n",
        "    \"\"\" 🤖 A simple joke bot that only responds to 'Joke'. \"\"\"\n",
        "\n",
        "    # Ask the user what they want\n",
        "    user_input = input(PROMPT).strip().lower()  # ✅ Normalize input\n",
        "\n",
        "    if user_input == \"joke\":\n",
        "        print(JOKE)  # ✅ Print joke if input is \"Joke\"\n",
        "    else:\n",
        "        print(SORRY)  # ❌ Print sorry message if input is anything else\n",
        "\n",
        "# 🏁 Run the program\n",
        "if __name__ == \"__main__\":\n",
        "    main()\n"
      ]
    }
  ]
}