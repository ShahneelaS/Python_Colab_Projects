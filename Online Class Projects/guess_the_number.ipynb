{
  "nbformat": 4,
  "nbformat_minor": 0,
  "metadata": {
    "colab": {
      "provenance": []
    },
    "kernelspec": {
      "name": "python3",
      "display_name": "Python 3"
    },
    "language_info": {
      "name": "python"
    }
  },
  "cells": [
    {
      "cell_type": "code",
      "execution_count": 1,
      "metadata": {
        "colab": {
          "base_uri": "https://localhost:8080/"
        },
        "id": "hFib6I5Rvd9k",
        "outputId": "490a51bc-814e-4176-dcbb-06c1268201bb"
      },
      "outputs": [
        {
          "output_type": "stream",
          "name": "stdout",
          "text": [
            "\n",
            "🔢 Welcome to the Number Guessing Game! 🔢\n",
            "🤔 I am thinking of a number between 0 and 99... Can you guess it?\n",
            "\n",
            "🎯 Enter your guess: 50\n",
            "📈 Too high! Try again.\n",
            "\n",
            "🎯 Enter your guess: 40\n",
            "📈 Too high! Try again.\n",
            "\n",
            "🎯 Enter your guess: 30\n",
            "📉 Too low! Try again.\n",
            "\n",
            "🎯 Enter your guess: 35\n",
            "📈 Too high! Try again.\n",
            "\n",
            "🎯 Enter your guess: 31\n",
            "📉 Too low! Try again.\n",
            "\n",
            "🎯 Enter your guess: 34\n",
            "📈 Too high! Try again.\n",
            "\n",
            "🎯 Enter your guess: 32\n",
            "\n",
            "🎉 Congrats! The number was 32. You guessed it in 7 attempts. 🏆\n",
            "\n"
          ]
        }
      ],
      "source": [
        "import random\n",
        "\n",
        "def guess_the_number():\n",
        "    \"\"\" 🎯 A fun number guessing game where the user must guess the correct number. \"\"\"\n",
        "\n",
        "    secret_number: int = random.randint(0, 99)  # ✅ Generate a random number between 0-99\n",
        "    attempts: int = 0  # ✅ Track the number of attempts\n",
        "\n",
        "    print(\"\\n🔢 Welcome to the Number Guessing Game! 🔢\")\n",
        "    print(\"🤔 I am thinking of a number between 0 and 99... Can you guess it?\\n\")\n",
        "\n",
        "    while True:\n",
        "        try:\n",
        "            guess: int = int(input(\"🎯 Enter your guess: \"))  # ✅ Get user input and convert to integer\n",
        "            attempts += 1  # ✅ Increment attempt count\n",
        "\n",
        "            if guess < 0 or guess > 99:\n",
        "                print(\"🚨 Out of range! Please enter a number between 0 and 99.\\n\")\n",
        "            elif guess < secret_number:\n",
        "                print(\"📉 Too low! Try again.\\n\")\n",
        "            elif guess > secret_number:\n",
        "                print(\"📈 Too high! Try again.\\n\")\n",
        "            else:\n",
        "                print(f\"\\n🎉 Congrats! The number was {secret_number}. You guessed it in {attempts} attempts. 🏆\\n\")\n",
        "                break  # ✅ Exit the loop when guessed correctly\n",
        "\n",
        "        except ValueError:\n",
        "            print(\"❌ Invalid input! Please enter a valid number.\\n\")\n",
        "\n",
        "# 🏁 Run the game\n",
        "if __name__ == \"__main__\":\n",
        "    guess_the_number()\n"
      ]
    }
  ]
}