{
  "nbformat": 4,
  "nbformat_minor": 0,
  "metadata": {
    "colab": {
      "provenance": []
    },
    "kernelspec": {
      "name": "python3",
      "display_name": "Python 3"
    },
    "language_info": {
      "name": "python"
    }
  },
  "cells": [
    {
      "cell_type": "code",
      "execution_count": 1,
      "metadata": {
        "colab": {
          "base_uri": "https://localhost:8080/"
        },
        "id": "SY5aCiyavLD9",
        "outputId": "73fbe19b-ca9c-4ff3-d07b-53f4aaa5bbad"
      },
      "outputs": [
        {
          "output_type": "stream",
          "name": "stdout",
          "text": [
            "\n",
            "🚀 Initiating Countdown Sequence...\n",
            "\n",
            "⏳ 10\n",
            "⏳ 9\n",
            "⏳ 8\n",
            "⏳ 7\n",
            "⏳ 6\n",
            "⏳ 5\n",
            "⏳ 4\n",
            "⏳ 3\n",
            "⏳ 2\n",
            "⏳ 1\n",
            "\n",
            "🔥 Liftoff! 🚀🌍\n"
          ]
        }
      ],
      "source": [
        "import time\n",
        "\n",
        "def main():\n",
        "    \"\"\" 🚀 A program that performs a countdown for a spaceship launch. \"\"\"\n",
        "\n",
        "    print(\"\\n🚀 Initiating Countdown Sequence...\\n\")\n",
        "\n",
        "    # 🔄 Countdown from 10 to 1\n",
        "    for i in range(10, 0, -1):  # ✅ Loop from 10 to 1 (decreasing order)\n",
        "        print(f\"⏳ {i}\")  # ✅ Display the countdown\n",
        "        time.sleep(1)  # ⏳ Pause for 1 second for a realistic effect\n",
        "\n",
        "    print(\"\\n🔥 Liftoff! 🚀🌍\")  # ✅ Print Liftoff after countdown completes\n",
        "\n",
        "# 🏁 Run the program\n",
        "if __name__ == \"__main__\":\n",
        "    main()\n"
      ]
    }
  ]
}