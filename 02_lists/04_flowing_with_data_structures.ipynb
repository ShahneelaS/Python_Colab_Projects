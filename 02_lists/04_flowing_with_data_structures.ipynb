{
  "nbformat": 4,
  "nbformat_minor": 0,
  "metadata": {
    "colab": {
      "provenance": []
    },
    "kernelspec": {
      "name": "python3",
      "display_name": "Python 3"
    },
    "language_info": {
      "name": "python"
    }
  },
  "cells": [
    {
      "cell_type": "code",
      "execution_count": 1,
      "metadata": {
        "colab": {
          "base_uri": "https://localhost:8080/"
        },
        "id": "W7zM4UP88kz9",
        "outputId": "c0226799-d7ce-4c5f-95b2-854e43ff4c56"
      },
      "outputs": [
        {
          "output_type": "stream",
          "name": "stdout",
          "text": [
            "\n",
            "🔹 Welcome to the 'Flowing with Data Structures' Program 🔹\n",
            "\n",
            "✍️ Enter a message to copy: hi\n",
            "\n",
            "📝 List before modification: []\n",
            "✅ List after modification: ['hi', 'hi', 'hi']\n",
            "\n",
            "🎯 The list was modified inside the function without returning it! 🎯\n"
          ]
        }
      ],
      "source": [
        "\"\"\"\n",
        "This program demonstrates the concept of **mutability** in Python by modifying\n",
        "a list inside a function. The function adds three copies of the provided\n",
        "input message to the list **without returning it**.\n",
        "\"\"\"\n",
        "\n",
        "# Display program title\n",
        "print(\"\\n🔹 Welcome to the 'Flowing with Data Structures' Program 🔹\\n\")\n",
        "\n",
        "def add_copies(target_list: list, data: str) -> None:\n",
        "    \"\"\"\n",
        "    Adds three copies of 'data' to the given list.\n",
        "\n",
        "    :param target_list: List where data will be added.\n",
        "    :param data: The message to be appended three times.\n",
        "    \"\"\"\n",
        "    for _ in range(3):\n",
        "        target_list.append(data)\n",
        "\n",
        "def main():\n",
        "    \"\"\"\n",
        "    📌 Main function to execute the program.\n",
        "    - Takes user input for a message.\n",
        "    - Displays the list before and after modification.\n",
        "    - Demonstrates how lists (mutable objects) are modified within functions.\n",
        "    \"\"\"\n",
        "    message: str = input(\"✍️ Enter a message to copy: \").strip()\n",
        "    data_list: list[str] = []  # Initialize an empty list\n",
        "\n",
        "    print(\"\\n📝 List before modification:\", data_list)\n",
        "    add_copies(data_list, message)  # Modify list inside the function\n",
        "    print(\"✅ List after modification:\", data_list)\n",
        "\n",
        "    print(\"\\n🎯 The list was modified inside the function without returning it! 🎯\")\n",
        "\n",
        "if __name__ == \"__main__\":\n",
        "    main()\n"
      ]
    }
  ]
}