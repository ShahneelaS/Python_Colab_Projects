{
  "nbformat": 4,
  "nbformat_minor": 0,
  "metadata": {
    "colab": {
      "provenance": []
    },
    "kernelspec": {
      "name": "python3",
      "display_name": "Python 3"
    },
    "language_info": {
      "name": "python"
    }
  },
  "cells": [
    {
      "cell_type": "code",
      "execution_count": 1,
      "metadata": {
        "colab": {
          "base_uri": "https://localhost:8080/"
        },
        "id": "tvJ6rgvy9v6j",
        "outputId": "7833260b-e73e-4812-eddd-d1721d7e4e74"
      },
      "outputs": [
        {
          "output_type": "stream",
          "name": "stdout",
          "text": [
            "🔹 Welcome to the Last Element Finder 🔹\n",
            "Enter an element to add to the list (or press Enter to finish): shahnila\n",
            "Enter an element to add to the list (or press Enter to finish): shahbaz\n",
            "Enter an element to add to the list (or press Enter to finish): khizer\n",
            "Enter an element to add to the list (or press Enter to finish): \n",
            "✅ The last element in the list is: khizer\n"
          ]
        }
      ],
      "source": [
        "print(\"🔹 Welcome to the Last Element Finder 🔹\")\n",
        "\n",
        "def get_last_element(lst):\n",
        "    \"\"\"Prints the last element of the provided list.\"\"\"\n",
        "    print(f\"✅ The last element in the list is: {lst[-1]}\")\n",
        "\n",
        "def get_lst():\n",
        "    \"\"\"Prompts the user to enter elements into a list one by one.\"\"\"\n",
        "    lst = []\n",
        "    while True:\n",
        "        element = input(\"Enter an element to add to the list (or press Enter to finish): \")\n",
        "        if element == \"\":  # Exit condition\n",
        "            break\n",
        "        lst.append(element)\n",
        "    return lst\n",
        "\n",
        "def main():\n",
        "    lst = get_lst()\n",
        "    if lst:  # Ensure list is not empty before accessing index -1\n",
        "        get_last_element(lst)\n",
        "    else:\n",
        "        print(\"⚠️ No elements were entered. The list is empty!\")\n",
        "\n",
        "if __name__ == \"__main__\":\n",
        "    main()\n"
      ]
    }
  ]
}