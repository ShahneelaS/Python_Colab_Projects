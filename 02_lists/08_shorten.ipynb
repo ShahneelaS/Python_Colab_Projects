{
  "nbformat": 4,
  "nbformat_minor": 0,
  "metadata": {
    "colab": {
      "provenance": []
    },
    "kernelspec": {
      "name": "python3",
      "display_name": "Python 3"
    },
    "language_info": {
      "name": "python"
    }
  },
  "cells": [
    {
      "cell_type": "code",
      "execution_count": 1,
      "metadata": {
        "colab": {
          "base_uri": "https://localhost:8080/"
        },
        "id": "4iFTN2G0-n4I",
        "outputId": "cc47bd69-fe6e-4e12-d43b-65a0f240bd7e"
      },
      "outputs": [
        {
          "output_type": "stream",
          "name": "stdout",
          "text": [
            "🔹 Welcome to the List Shortener Program 🔹\n",
            "➤ Enter an element to add to the list (or press Enter to stop): burger\n",
            "➤ Enter an element to add to the list (or press Enter to stop): kabab\n",
            "➤ Enter an element to add to the list (or press Enter to stop): biryani\n",
            "➤ Enter an element to add to the list (or press Enter to stop): qorma\n",
            "➤ Enter an element to add to the list (or press Enter to stop): \n",
            "\n",
            "📋 Original List: ['burger', 'kabab', 'biryani', 'qorma']\n",
            "🗑️ Removed: qorma\n",
            "✅ Final List after shortening: ['burger', 'kabab', 'biryani']\n"
          ]
        }
      ],
      "source": [
        "print(\"🔹 Welcome to the List Shortener Program 🔹\")\n",
        "\n",
        "MAX_LENGTH: int = 3\n",
        "\n",
        "def shorten(lst):\n",
        "    \"\"\"\n",
        "    Removes elements from the end of lst until it contains MAX_LENGTH items.\n",
        "    Prints each removed item.\n",
        "    \"\"\"\n",
        "    while len(lst) > MAX_LENGTH:\n",
        "        removed_element = lst.pop()\n",
        "        print(f\"🗑️ Removed: {removed_element}\")\n",
        "\n",
        "def get_lst():\n",
        "    \"\"\"\n",
        "    Continuously prompts the user to enter elements into a list.\n",
        "    Stops when the user presses Enter without typing anything.\n",
        "    \"\"\"\n",
        "    lst = []\n",
        "    while True:\n",
        "        element = input(\"➤ Enter an element to add to the list (or press Enter to stop): \")\n",
        "        if element == \"\":\n",
        "            break\n",
        "        lst.append(element)\n",
        "\n",
        "    return lst\n",
        "\n",
        "def main():\n",
        "    lst = get_lst()\n",
        "\n",
        "    print(\"\\n📋 Original List:\", lst)\n",
        "    shorten(lst)\n",
        "    print(\"✅ Final List after shortening:\", lst)\n",
        "\n",
        "if __name__ == \"__main__\":\n",
        "    main()\n"
      ]
    }
  ]
}