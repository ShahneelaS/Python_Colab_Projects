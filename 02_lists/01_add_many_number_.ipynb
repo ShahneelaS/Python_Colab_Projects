{
  "nbformat": 4,
  "nbformat_minor": 0,
  "metadata": {
    "colab": {
      "provenance": []
    },
    "kernelspec": {
      "name": "python3",
      "display_name": "Python 3"
    },
    "language_info": {
      "name": "python"
    }
  },
  "cells": [
    {
      "cell_type": "code",
      "execution_count": 1,
      "metadata": {
        "colab": {
          "base_uri": "https://localhost:8080/"
        },
        "id": "BYhdNPct7RYd",
        "outputId": "47cc2d7a-c035-429f-942a-c46ab830142a"
      },
      "outputs": [
        {
          "output_type": "stream",
          "name": "stdout",
          "text": [
            "\n",
            "🧮 Welcome to the List Sum Calculator! 🧮\n",
            "\n",
            "Would you like to enter your own numbers? (yes/y or no/n): y\n",
            "🔢 Enter numbers separated by commas (e.g., 1,2,3,4,5): 4,2,1,9,29,39\n",
            "\n",
            "✅ The sum of the numbers [4, 2, 1, 9, 29, 39] is: 84\n",
            "\n",
            "🔄 Would you like to sum another list? (yes/y or no/n): n\n",
            "\n",
            "👋 Thank you for using the calculator! Have a great day! 😊\n"
          ]
        }
      ],
      "source": [
        "\"\"\"\n",
        "This program takes a list of numbers and returns their sum.\n",
        "It allows the user to input their own list or use a default one.\n",
        "\"\"\"\n",
        "\n",
        "def sum_list_numbers(numbers: list[int]) -> int:\n",
        "    \"\"\"\n",
        "    Takes in a list of numbers and returns the sum of those numbers.\n",
        "    \"\"\"\n",
        "    total_sum: int = 0\n",
        "    for num in numbers:\n",
        "        total_sum += num\n",
        "    return total_sum\n",
        "\n",
        "def main():\n",
        "    \"\"\"Main function to calculate sum of list numbers with user input option.\"\"\"\n",
        "    print(\"\\n🧮 Welcome to the List Sum Calculator! 🧮\")\n",
        "\n",
        "    while True:\n",
        "        # Option to enter custom numbers or use default list\n",
        "        user_choice = input(\"\\nWould you like to enter your own numbers? (yes/y or no/n): \").strip().lower()\n",
        "\n",
        "        if user_choice in [\"yes\", \"y\"]:\n",
        "            user_input = input(\"🔢 Enter numbers separated by commas (e.g., 1,2,3,4,5): \")\n",
        "            numbers = [int(n.strip()) for n in user_input.split(\",\")]  # Convert input to list of numbers\n",
        "        else:\n",
        "            numbers = [1, 2, 3, 4, 5, 6]  # Default list\n",
        "\n",
        "        # Calculate sum\n",
        "        sum_result: int = sum_list_numbers(numbers)\n",
        "        print(f\"\\n✅ The sum of the numbers {numbers} is: {sum_result}\")\n",
        "\n",
        "        # Ask user if they want to calculate again\n",
        "        restart = input(\"\\n🔄 Would you like to sum another list? (yes/y or no/n): \").strip().lower()\n",
        "        if restart not in [\"yes\", \"y\"]:\n",
        "            print(\"\\n👋 Thank you for using the calculator! Have a great day! 😊\")\n",
        "            break  # Exit the loop\n",
        "\n",
        "# Run the program\n",
        "if __name__ == \"__main__\":\n",
        "    main()\n"
      ]
    }
  ]
}