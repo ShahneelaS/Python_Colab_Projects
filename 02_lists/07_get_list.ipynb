{
  "nbformat": 4,
  "nbformat_minor": 0,
  "metadata": {
    "colab": {
      "provenance": []
    },
    "kernelspec": {
      "name": "python3",
      "display_name": "Python 3"
    },
    "language_info": {
      "name": "python"
    }
  },
  "cells": [
    {
      "cell_type": "code",
      "execution_count": 1,
      "metadata": {
        "colab": {
          "base_uri": "https://localhost:8080/"
        },
        "id": "2UAfFJ3R-Jqx",
        "outputId": "0d4503d2-29e7-4a61-b114-20707ce00e1c"
      },
      "outputs": [
        {
          "output_type": "stream",
          "name": "stdout",
          "text": [
            "🔹 Welcome to the Dynamic List Creator 🔹\n",
            "➤ Enter a value to add to the list (or press Enter to finish): samosa\n",
            "➤ Enter a value to add to the list (or press Enter to finish): roll\n",
            "➤ Enter a value to add to the list (or press Enter to finish): biryani\n",
            "➤ Enter a value to add to the list (or press Enter to finish): cold drink\n",
            "➤ Enter a value to add to the list (or press Enter to finish): \n",
            "\n",
            "✅ Here is your final list: ['samosa', 'roll', 'biryani', 'cold drink']\n"
          ]
        }
      ],
      "source": [
        "print(\"🔹 Welcome to the Dynamic List Creator 🔹\")\n",
        "\n",
        "def get_list():\n",
        "    \"\"\"Continuously asks the user to enter values into a list until they press Enter.\"\"\"\n",
        "    lst = []\n",
        "\n",
        "    while True:\n",
        "        val = input(\"➤ Enter a value to add to the list (or press Enter to finish): \")\n",
        "        if val == \"\":  # Exit condition\n",
        "            break\n",
        "        lst.append(val)\n",
        "\n",
        "    return lst\n",
        "\n",
        "def main():\n",
        "    lst = get_list()\n",
        "\n",
        "    if lst:  # Ensure the list is not empty before printing\n",
        "        print(\"\\n✅ Here is your final list:\", lst)\n",
        "    else:\n",
        "        print(\"\\n⚠️ No values entered. The list is empty!\")\n",
        "\n",
        "if __name__ == \"__main__\":\n",
        "    main()\n"
      ]
    }
  ]
}