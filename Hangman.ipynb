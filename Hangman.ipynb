{
  "nbformat": 4,
  "nbformat_minor": 0,
  "metadata": {
    "colab": {
      "provenance": []
    },
    "kernelspec": {
      "name": "python3",
      "display_name": "Python 3"
    },
    "language_info": {
      "name": "python"
    }
  },
  "cells": [
    {
      "cell_type": "code",
      "execution_count": null,
      "metadata": {
        "colab": {
          "base_uri": "https://localhost:8080/"
        },
        "id": "1JIWZfzLuu7I",
        "outputId": "dedb545d-8ab9-4d86-d80c-bef85fb95cc0"
      },
      "outputs": [
        {
          "output_type": "stream",
          "name": "stdout",
          "text": [
            "🎮 Welcome to Hangman!\n",
            "_ _ _ _ _ _ _ _ _ _ _ \n",
            "👉 Guess a letter: s\n",
            "❌ Wrong guess! You lost 1 attempt.\n",
            "Word: _ _ _ _ _ _ _ _ _ _ _\n",
            "⏳ Remaining attempts: 5\n",
            "\n",
            "👉 Guess a letter: l\n",
            "❌ Wrong guess! You lost 1 attempt.\n",
            "Word: _ _ _ _ _ _ _ _ _ _ _\n",
            "⏳ Remaining attempts: 4\n",
            "\n",
            "👉 Guess a letter: k\n",
            "❌ Wrong guess! You lost 1 attempt.\n",
            "Word: _ _ _ _ _ _ _ _ _ _ _\n",
            "⏳ Remaining attempts: 3\n",
            "\n",
            "👉 Guess a letter: a\n",
            "✅ Correct guess!\n",
            "Word: _ _ _ _ _ a _ _ _ _ _\n",
            "⏳ Remaining attempts: 3\n",
            "\n",
            "👉 Guess a letter: t\n",
            "❌ Wrong guess! You lost 1 attempt.\n",
            "Word: _ _ _ _ _ a _ _ _ _ _\n",
            "⏳ Remaining attempts: 2\n",
            "\n",
            "👉 Guess a letter: y\n",
            "❌ Wrong guess! You lost 1 attempt.\n",
            "Word: _ _ _ _ _ a _ _ _ _ _\n",
            "⏳ Remaining attempts: 1\n",
            "\n",
            "👉 Guess a letter: b\n",
            "❌ Wrong guess! You lost 1 attempt.\n",
            "Word: _ _ _ _ _ a _ _ _ _ _\n",
            "⏳ Remaining attempts: 0\n",
            "\n",
            "😞 You lost! The word was: programming\n"
          ]
        }
      ],
      "source": [
        "import random\n",
        "\n",
        "# 🎭 List of words for the game\n",
        "words = [\"python\", \"google\", \"hangman\", \"computer\", \"programming\", \"developer\"]\n",
        "\n",
        "# 🤖 Randomly select a word\n",
        "secret_word = random.choice(words)\n",
        "guessed_letters = []\n",
        "attempts = 6\n",
        "\n",
        "print(\"🎮 Welcome to Hangman!\")\n",
        "print(\"_ \" * len(secret_word))  # Hidden word display\n",
        "\n",
        "# 🎯 Game loop\n",
        "while attempts > 0:\n",
        "    guess = input(\"👉 Guess a letter: \").lower()\n",
        "\n",
        "    if guess in guessed_letters:\n",
        "        print(\"⚠ You already guessed this letter! Try another one.\")\n",
        "        continue\n",
        "\n",
        "    guessed_letters.append(guess)\n",
        "\n",
        "    if guess in secret_word:\n",
        "        print(\"✅ Correct guess!\")\n",
        "    else:\n",
        "        print(\"❌ Wrong guess! You lost 1 attempt.\")\n",
        "        attempts -= 1\n",
        "\n",
        "    # 🎭 Display word progress\n",
        "    display_word = \"\".join([letter if letter in guessed_letters else \"_\" for letter in secret_word])\n",
        "    print(\"Word:\", \" \".join(display_word))\n",
        "\n",
        "    if \"_\" not in display_word:\n",
        "        print(\"🎉 Congratulations! You guessed the word!\")\n",
        "        break\n",
        "\n",
        "    print(f\"⏳ Remaining attempts: {attempts}\\n\")\n",
        "\n",
        "if attempts == 0:\n",
        "    print(f\"😞 You lost! The word was: {secret_word}\")\n"
      ]
    }
  ]
}