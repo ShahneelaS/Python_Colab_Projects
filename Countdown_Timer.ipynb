{
  "nbformat": 4,
  "nbformat_minor": 0,
  "metadata": {
    "colab": {
      "provenance": []
    },
    "kernelspec": {
      "name": "python3",
      "display_name": "Python 3"
    },
    "language_info": {
      "name": "python"
    }
  },
  "cells": [
    {
      "cell_type": "code",
      "execution_count": null,
      "metadata": {
        "colab": {
          "base_uri": "https://localhost:8080/"
        },
        "id": "lx5ELZxktjST",
        "outputId": "67796556-b5e2-4e33-ef79-1d14cda303b7"
      },
      "outputs": [
        {
          "output_type": "stream",
          "name": "stdout",
          "text": [
            "⏳ Enter time in seconds: 5\n",
            "⏳ Timer started!\n",
            "⏰ Time's up!\n"
          ]
        }
      ],
      "source": [
        "import time\n",
        "\n",
        "# 🕒 User input for countdown time\n",
        "seconds = int(input(\"⏳ Enter time in seconds: \"))\n",
        "\n",
        "print(\"⏳ Timer started!\")\n",
        "while seconds > 0:\n",
        "    print(f\"⏳ {seconds} seconds remaining...\", end=\"\\r\")\n",
        "    time.sleep(1)  # Wait for 1 second\n",
        "    seconds -= 1\n",
        "\n",
        "print(\"⏰ Time's up!\")\n"
      ]
    }
  ]
}