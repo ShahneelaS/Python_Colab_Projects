{
  "nbformat": 4,
  "nbformat_minor": 0,
  "metadata": {
    "colab": {
      "provenance": []
    },
    "kernelspec": {
      "name": "python3",
      "display_name": "Python 3"
    },
    "language_info": {
      "name": "python"
    }
  },
  "cells": [
    {
      "cell_type": "code",
      "execution_count": 1,
      "metadata": {
        "colab": {
          "base_uri": "https://localhost:8080/"
        },
        "id": "UNzkV8jrErXO",
        "outputId": "6377a1f1-f38f-41e3-eec2-68dcabf4714c"
      },
      "outputs": [
        {
          "output_type": "stream",
          "name": "stdout",
          "text": [
            "True\n",
            "False\n",
            "True\n",
            "True\n",
            "False\n"
          ]
        }
      ],
      "source": [
        "import hashlib\n",
        "\n",
        "def hash_password(password: str) -> str:\n",
        "    \"\"\"\n",
        "    Hashes a given password using SHA-256.\n",
        "\n",
        "    :param password: The password to be hashed.\n",
        "    :return: The hashed password as a hexadecimal string.\n",
        "    \"\"\"\n",
        "    return hashlib.sha256(password.encode()).hexdigest()\n",
        "\n",
        "def login(email: str, stored_logins: dict, password_to_check: str) -> bool:\n",
        "    \"\"\"\n",
        "    Checks if the provided password (after hashing) matches the stored hashed password for the given email.\n",
        "\n",
        "    :param email: The email we are checking the password for.\n",
        "    :param stored_logins: Dictionary containing stored hashed passwords mapped to emails.\n",
        "    :param password_to_check: The password input to verify.\n",
        "    :return: True if the password matches, False otherwise.\n",
        "    \"\"\"\n",
        "    # Check if email exists in stored logins\n",
        "    if email in stored_logins:\n",
        "        return stored_logins[email] == hash_password(password_to_check)\n",
        "    return False  # Email not found\n",
        "\n",
        "def main():\n",
        "    \"\"\"\n",
        "    Main function to test the login system with sample data.\n",
        "    \"\"\"\n",
        "    # Sample database of emails and their corresponding hashed passwords\n",
        "    stored_logins = {\n",
        "        \"example@gmail.com\": hash_password(\"password\"),\n",
        "        \"user123@domain.com\": hash_password(\"securePass123\"),\n",
        "        \"admin@website.com\": hash_password(\"Admin@2024\"),\n",
        "    }\n",
        "\n",
        "    # Test cases\n",
        "    print(login(\"example@gmail.com\", stored_logins, \"password\"))  # ✅ Expected: True\n",
        "    print(login(\"example@gmail.com\", stored_logins, \"wrongpassword\"))  # ❌ Expected: False\n",
        "    print(login(\"user123@domain.com\", stored_logins, \"securePass123\"))  # ✅ Expected: True\n",
        "    print(login(\"admin@website.com\", stored_logins, \"Admin@2024\"))  # ✅ Expected: True\n",
        "    print(login(\"unknown@site.com\", stored_logins, \"doesntmatter\"))  # ❌ Expected: False\n",
        "\n",
        "if __name__ == '__main__':\n",
        "    main()"
      ]
    }
  ]
}