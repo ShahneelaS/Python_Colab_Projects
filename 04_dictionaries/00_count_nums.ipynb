{
  "nbformat": 4,
  "nbformat_minor": 0,
  "metadata": {
    "colab": {
      "provenance": []
    },
    "kernelspec": {
      "name": "python3",
      "display_name": "Python 3"
    },
    "language_info": {
      "name": "python"
    }
  },
  "cells": [
    {
      "cell_type": "code",
      "execution_count": 1,
      "metadata": {
        "colab": {
          "base_uri": "https://localhost:8080/"
        },
        "id": "1ItP2fD2BjRb",
        "outputId": "4dc2f9b8-3aca-460b-87bb-47031a7e8abe"
      },
      "outputs": [
        {
          "output_type": "stream",
          "name": "stdout",
          "text": [
            "🎯 Welcome to the Number Frequency Counter!\n",
            "\n",
            "🔢 Enter a number (or press Enter to finish): 2\n",
            "🔢 Enter a number (or press Enter to finish): 7\n",
            "🔢 Enter a number (or press Enter to finish): 8\n",
            "🔢 Enter a number (or press Enter to finish): 4\n",
            "🔢 Enter a number (or press Enter to finish): \n",
            "\n",
            "📊 Number Frequency Count:\n",
            "✅ 2 appears 1 time(s).\n",
            "✅ 4 appears 1 time(s).\n",
            "✅ 7 appears 1 time(s).\n",
            "✅ 8 appears 1 time(s).\n",
            "\n",
            "🔄 Would you like to analyze another set of numbers? (yes or no): n\n",
            "\n",
            "👋 Thanks for using the Number Frequency Counter! Have a great day! 😊\n"
          ]
        }
      ],
      "source": [
        "\n",
        "def get_user_numbers():\n",
        "    \"\"\"\n",
        "    Continuously prompts the user to enter numbers and stores them in a list.\n",
        "    Stops when the user enters a blank line and returns the list.\n",
        "    \"\"\"\n",
        "    numbers = []\n",
        "    while True:\n",
        "        user_input = input(\"🔢 Enter a number (or press Enter to finish): \").strip()\n",
        "\n",
        "        if user_input == \"\":  # Stop when the user enters a blank line\n",
        "            break\n",
        "\n",
        "        if user_input.isdigit():  # Ensure input is a valid number\n",
        "            numbers.append(int(user_input))\n",
        "        else:\n",
        "            print(\"❌ Invalid input! Please enter a valid number.\")\n",
        "\n",
        "    return numbers\n",
        "\n",
        "def count_numbers(numbers):\n",
        "    \"\"\"\n",
        "    Counts the occurrences of each number in the list using a dictionary.\n",
        "    Returns the dictionary with counts.\n",
        "    \"\"\"\n",
        "    count_dict = {}\n",
        "    for num in numbers:\n",
        "        count_dict[num] = count_dict.get(num, 0) + 1  # Increment count for each number\n",
        "\n",
        "    return count_dict\n",
        "\n",
        "def print_counts(count_dict):\n",
        "    \"\"\"\n",
        "    Prints each number along with how many times it appears.\n",
        "    \"\"\"\n",
        "    print(\"\\n📊 Number Frequency Count:\")\n",
        "    for num, count in sorted(count_dict.items()):\n",
        "        print(f\"✅ {num} appears {count} time(s).\")\n",
        "\n",
        "def main():\n",
        "    \"\"\"\n",
        "    Runs the full program:\n",
        "    1️⃣ Gets numbers from the user\n",
        "    2️⃣ Counts occurrences using a dictionary\n",
        "    3️⃣ Displays the results\n",
        "    4️⃣ Allows the user to restart or exit\n",
        "    \"\"\"\n",
        "    print(\"🎯 Welcome to the Number Frequency Counter!\\n\")\n",
        "\n",
        "    while True:\n",
        "        numbers = get_user_numbers()\n",
        "\n",
        "        if not numbers:  # If no numbers were entered\n",
        "            print(\"⚠️ No numbers entered. Exiting program.\")\n",
        "            break\n",
        "\n",
        "        count_dict = count_numbers(numbers)\n",
        "        print_counts(count_dict)\n",
        "\n",
        "        # Ask the user if they want to restart\n",
        "        while True:\n",
        "            restart = input(\"\\n🔄 Would you like to analyze another set of numbers? (yes or no): \").strip().lower()\n",
        "            if restart in [\"yes\", \"y\"]:\n",
        "                break  # Restart the loop\n",
        "            elif restart in [\"no\", \"n\"]:\n",
        "                print(\"\\n👋 Thanks for using the Number Frequency Counter! Have a great day! 😊\")\n",
        "                return  # Exit the program\n",
        "            else:\n",
        "                print(\"❌ Invalid input! Please enter 'yes' or 'no'.\")\n",
        "\n",
        "if __name__ == \"__main__\":\n",
        "    main()\n"
      ]
    }
  ]
}