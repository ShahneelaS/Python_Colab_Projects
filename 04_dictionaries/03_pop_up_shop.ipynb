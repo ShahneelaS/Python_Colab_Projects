{
  "nbformat": 4,
  "nbformat_minor": 0,
  "metadata": {
    "colab": {
      "provenance": []
    },
    "kernelspec": {
      "name": "python3",
      "display_name": "Python 3"
    },
    "language_info": {
      "name": "python"
    }
  },
  "cells": [
    {
      "cell_type": "code",
      "execution_count": 1,
      "metadata": {
        "colab": {
          "base_uri": "https://localhost:8080/"
        },
        "id": "9QteyZQdEATN",
        "outputId": "d9c07321-44ef-4045-a27c-7bdd0bd15fba"
      },
      "outputs": [
        {
          "output_type": "stream",
          "name": "stdout",
          "text": [
            "\n",
            "🛒 Welcome to the Fruit Shop! Let's calculate your total cost. 🛒\n",
            "\n",
            "How many (apple) do you want to buy? (Enter 0 if none): 10\n",
            "How many (durian) do you want to buy? (Enter 0 if none): 2\n",
            "How many (jackfruit) do you want to buy? (Enter 0 if none): 4\n",
            "How many (kiwi) do you want to buy? (Enter 0 if none): 5\n",
            "How many (rambutan) do you want to buy? (Enter 0 if none): 6\n",
            "How many (mango) do you want to buy? (Enter 0 if none): 7\n",
            "\n",
            "💰 Your total is $484.00. Thank you for shopping! 🍎🥭\n",
            "\n"
          ]
        }
      ],
      "source": [
        "# 🍏 Welcome to the Fruit Shop Calculator 🍏\n",
        "\n",
        "def calculate_total_cost():\n",
        "    \"\"\"\n",
        "    This function calculates the total cost of fruits based on user input.\n",
        "    It loops through a dictionary of fruit prices, asks the user for the quantity of each fruit,\n",
        "    and then calculates the total bill.\n",
        "    \"\"\"\n",
        "\n",
        "    # Dictionary of available fruits and their prices per unit ($)\n",
        "    fruit_prices = {\n",
        "        'apple': 1.5,\n",
        "        'durian': 50,\n",
        "        'jackfruit': 80,\n",
        "        'kiwi': 1,\n",
        "        'rambutan': 1.5,\n",
        "        'mango': 5\n",
        "    }\n",
        "\n",
        "    total_cost = 0  # Initialize total cost\n",
        "\n",
        "    print(\"\\n🛒 Welcome to the Fruit Shop! Let's calculate your total cost. 🛒\\n\")\n",
        "\n",
        "    for fruit, price in fruit_prices.items():\n",
        "        while True:  # Ensure valid input\n",
        "            try:\n",
        "                quantity = input(f\"How many ({fruit}) do you want to buy? (Enter 0 if none): \")\n",
        "\n",
        "                if quantity.strip() == \"\":  # Allow user to exit early\n",
        "                    print(\"\\n🚪 Exiting early. Calculating total cost...\\n\")\n",
        "                    break\n",
        "\n",
        "                quantity = int(quantity)\n",
        "\n",
        "                if quantity < 0:\n",
        "                    print(\"❌ Please enter a valid non-negative number.\")\n",
        "                    continue\n",
        "\n",
        "                total_cost += price * quantity\n",
        "                break  # Exit the loop if input is valid\n",
        "\n",
        "            except ValueError:\n",
        "                print(\"⚠️ Invalid input! Please enter a valid integer.\")\n",
        "\n",
        "    # Print the total cost with formatting\n",
        "    print(f\"\\n💰 Your total is ${total_cost:.2f}. Thank you for shopping! 🍎🥭\\n\")\n",
        "\n",
        "\n",
        "# Run the program\n",
        "if __name__ == \"__main__\":\n",
        "    calculate_total_cost()\n"
      ]
    }
  ]
}