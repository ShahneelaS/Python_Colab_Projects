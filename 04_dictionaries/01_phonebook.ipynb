{
  "nbformat": 4,
  "nbformat_minor": 0,
  "metadata": {
    "colab": {
      "provenance": []
    },
    "kernelspec": {
      "name": "python3",
      "display_name": "Python 3"
    },
    "language_info": {
      "name": "python"
    }
  },
  "cells": [
    {
      "cell_type": "code",
      "execution_count": 1,
      "metadata": {
        "colab": {
          "base_uri": "https://localhost:8080/"
        },
        "id": "jRojQwd7CZ-E",
        "outputId": "24e0dd53-7c32-4724-ad60-a6d06f973e9f"
      },
      "outputs": [
        {
          "output_type": "stream",
          "name": "stdout",
          "text": [
            "\n",
            "📞 Welcome to the Phonebook Management System! 📞\n",
            "\n",
            "Enter contact name (or press Enter to stop): shanila\n",
            "Enter phone number for shanila: 3256748\n",
            "Enter contact name (or press Enter to stop): \n",
            "\n",
            "📖 Phonebook Entries:\n",
            "------------------------------\n",
            "📌 shanila -> 3256748\n",
            "------------------------------\n",
            "\n",
            "🔍 Enter name to look up (or press Enter to stop): \n",
            "\n",
            "📴 Exiting Phonebook. Have a great day! 😊\n"
          ]
        }
      ],
      "source": [
        "\"\"\"\n",
        "📞 Phonebook Management System 📞\n",
        "--------------------------------\n",
        "🔹 Add contacts (Name & Phone Number)\n",
        "🔹 View all saved contacts\n",
        "🔹 Search for a contact using a partial or full name\n",
        "🔹 Exit when finished\n",
        "\n",
        "Developed by: Sahir Ahmed Sheikh\n",
        "\"\"\"\n",
        "\n",
        "def read_phone_numbers():\n",
        "    \"\"\"\n",
        "    Collects names and phone numbers from the user and stores them in a dictionary.\n",
        "    Returns the dictionary containing the phonebook.\n",
        "    \"\"\"\n",
        "    phonebook = {}\n",
        "\n",
        "    while True:\n",
        "        name = input(\"Enter contact name (or press Enter to stop): \").strip()\n",
        "        if name == \"\":\n",
        "            break\n",
        "\n",
        "        number = input(f\"Enter phone number for {name}: \").strip()\n",
        "        phonebook[name] = number\n",
        "\n",
        "    return phonebook\n",
        "\n",
        "\n",
        "def print_phonebook(phonebook):\n",
        "    \"\"\"\n",
        "    Displays all contacts stored in the phonebook.\n",
        "    \"\"\"\n",
        "    if not phonebook:\n",
        "        print(\"\\n📌 The phonebook is empty. Add contacts first!\\n\")\n",
        "        return\n",
        "\n",
        "    print(\"\\n📖 Phonebook Entries:\")\n",
        "    print(\"-\" * 30)\n",
        "    for name, number in phonebook.items():\n",
        "        print(f\"📌 {name} -> {number}\")\n",
        "    print(\"-\" * 30)\n",
        "\n",
        "\n",
        "def lookup_numbers(phonebook):\n",
        "    \"\"\"\n",
        "    Allows the user to search for a contact’s phone number by full or partial name.\n",
        "    \"\"\"\n",
        "    while True:\n",
        "        search_query = input(\"\\n🔍 Enter name to look up (or press Enter to stop): \").strip()\n",
        "        if search_query == \"\":\n",
        "            break\n",
        "\n",
        "        matches = {name: number for name, number in phonebook.items() if search_query.lower() in name.lower()}\n",
        "\n",
        "        if matches:\n",
        "            print(\"\\n🔎 Found Contacts:\")\n",
        "            for name, number in matches.items():\n",
        "                print(f\"✅ {name}: {number}\")\n",
        "        else:\n",
        "            print(f\"❌ No contacts found for '{search_query}'.\")\n",
        "\n",
        "\n",
        "def main():\n",
        "    \"\"\"\n",
        "    Main function that runs the phonebook program.\n",
        "    \"\"\"\n",
        "    print(\"\\n📞 Welcome to the Phonebook Management System! 📞\\n\")\n",
        "\n",
        "    phonebook = read_phone_numbers()  # Step 1: Collect contacts\n",
        "    print_phonebook(phonebook)  # Step 2: Display all contacts\n",
        "    lookup_numbers(phonebook)  # Step 3: Allow searching for contacts\n",
        "\n",
        "    print(\"\\n📴 Exiting Phonebook. Have a great day! 😊\")\n",
        "\n",
        "\n",
        "if __name__ == '__main__':\n",
        "    main()\n"
      ]
    }
  ]
}