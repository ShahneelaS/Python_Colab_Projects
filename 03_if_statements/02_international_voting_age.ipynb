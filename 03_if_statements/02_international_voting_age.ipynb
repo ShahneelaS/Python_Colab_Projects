{
  "nbformat": 4,
  "nbformat_minor": 0,
  "metadata": {
    "colab": {
      "provenance": []
    },
    "kernelspec": {
      "name": "python3",
      "display_name": "Python 3"
    },
    "language_info": {
      "name": "python"
    }
  },
  "cells": [
    {
      "cell_type": "code",
      "execution_count": 1,
      "metadata": {
        "colab": {
          "base_uri": "https://localhost:8080/"
        },
        "id": "lZYz7pGg_gFm",
        "outputId": "1e81bbf5-d453-4be7-eb1d-d0c538a01a08"
      },
      "outputs": [
        {
          "output_type": "stream",
          "name": "stdout",
          "text": [
            "🗳️ Welcome to the Voting Eligibility Checker! 🗳️\n",
            "\n",
            "🔹 How old are you? 33\n",
            "\n",
            "🔎 Checking Voting Eligibility...\n",
            "\n",
            "✅ You can vote in Peturksbouipo where the voting age is 16.\n",
            "✅ You can vote in Stanlau where the voting age is 25.\n",
            "❌ You cannot vote in Mayengua where the voting age is 48.\n",
            "\n",
            "🔄 Would you like to check another person's voting eligibility? (yes or no): n\n",
            "\n",
            "🎉 Thank you for using the Voting Eligibility Checker! Have a great day! 😊\n"
          ]
        }
      ],
      "source": [
        "# Constants for voting ages in different countries\n",
        "PETURKSBOUIPO_AGE: int = 16\n",
        "STANLAU_AGE: int = 25\n",
        "MAYENGUA_AGE: int = 48\n",
        "\n",
        "def check_voting_eligibility(age: int):\n",
        "    \"\"\"\n",
        "    Checks and prints whether the user is eligible to vote in three fictional countries.\n",
        "    \"\"\"\n",
        "    print(\"\\n🔎 Checking Voting Eligibility...\\n\")\n",
        "\n",
        "    # Checking voting eligibility in each country\n",
        "    countries = {\n",
        "        \"Peturksbouipo\": PETURKSBOUIPO_AGE,\n",
        "        \"Stanlau\": STANLAU_AGE,\n",
        "        \"Mayengua\": MAYENGUA_AGE\n",
        "    }\n",
        "\n",
        "    for country, voting_age in countries.items():\n",
        "        if age >= voting_age:\n",
        "            print(f\"✅ You can vote in {country} where the voting age is {voting_age}.\")\n",
        "        else:\n",
        "            print(f\"❌ You cannot vote in {country} where the voting age is {voting_age}.\")\n",
        "\n",
        "def main():\n",
        "    \"\"\" Main function to handle user input and call eligibility check \"\"\"\n",
        "    print(\"🗳️ Welcome to the Voting Eligibility Checker! 🗳️\\n\")\n",
        "\n",
        "    while True:\n",
        "        # Get user input and validate it\n",
        "        while True:\n",
        "            try:\n",
        "                user_age = int(input(\"🔹 How old are you? \"))\n",
        "                if user_age < 0:\n",
        "                    print(\"🚨 Age cannot be negative. Please enter a valid age.\")\n",
        "                else:\n",
        "                    break  # Exit loop if input is valid\n",
        "            except ValueError:\n",
        "                print(\"❌ Invalid input! Please enter a numeric value.\")\n",
        "\n",
        "        # Call function to check eligibility\n",
        "        check_voting_eligibility(user_age)\n",
        "\n",
        "        # Ask if user wants to check another age\n",
        "        while True:\n",
        "            restart = input(\"\\n🔄 Would you like to check another person's voting eligibility? (yes or no): \").strip().lower()\n",
        "            if restart in [\"yes\", \"y\"]:\n",
        "                print(\"\\n🔁 Restarting the program...\\n\")\n",
        "                break  # Restart the loop\n",
        "            elif restart in [\"no\", \"n\"]:\n",
        "                print(\"\\n🎉 Thank you for using the Voting Eligibility Checker! Have a great day! 😊\")\n",
        "                return  # Exit the program\n",
        "            else:\n",
        "                print(\"⚠️ Invalid choice! Please enter 'yes' or 'no'.\")\n",
        "\n",
        "if __name__ == \"__main__\":\n",
        "    main()"
      ]
    }
  ]
}