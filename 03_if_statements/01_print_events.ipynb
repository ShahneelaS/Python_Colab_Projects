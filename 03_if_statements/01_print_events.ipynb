{
  "nbformat": 4,
  "nbformat_minor": 0,
  "metadata": {
    "colab": {
      "provenance": []
    },
    "kernelspec": {
      "name": "python3",
      "display_name": "Python 3"
    },
    "language_info": {
      "name": "python"
    }
  },
  "cells": [
    {
      "cell_type": "code",
      "execution_count": 1,
      "metadata": {
        "colab": {
          "base_uri": "https://localhost:8080/"
        },
        "id": "TAYPifg5_NSu",
        "outputId": "71877a2b-d712-4a43-a2d6-53167a720350"
      },
      "outputs": [
        {
          "output_type": "stream",
          "name": "stdout",
          "text": [
            "🔢 First 20 Even Numbers Generator 🔢\n",
            "\n",
            "0 2 4 6 8 10 12 14 16 18 20 22 24 26 28 30 32 34 36 38\n"
          ]
        }
      ],
      "source": [
        "print(\"🔢 First 20 Even Numbers Generator 🔢\\n\")\n",
        "\n",
        "def generate_even_numbers(n: int):\n",
        "    \"\"\"\n",
        "    Generates and prints the first 'n' even numbers using a loop.\n",
        "\n",
        "    Parameters:\n",
        "        n (int): Number of even numbers to generate.\n",
        "    \"\"\"\n",
        "    even_numbers = [i * 2 for i in range(n)]  # Using list comprehension for efficiency\n",
        "    print(\" \".join(map(str, even_numbers)))  # Printing numbers in a single line\n",
        "\n",
        "def main():\n",
        "    total_numbers = 20  # Set requirement to print first 20 even numbers\n",
        "    generate_even_numbers(total_numbers)\n",
        "\n",
        "if __name__ == \"__main__\":\n",
        "    main()"
      ]
    }
  ]
}