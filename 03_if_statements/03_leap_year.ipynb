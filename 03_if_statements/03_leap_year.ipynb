{
  "nbformat": 4,
  "nbformat_minor": 0,
  "metadata": {
    "colab": {
      "provenance": []
    },
    "kernelspec": {
      "name": "python3",
      "display_name": "Python 3"
    },
    "language_info": {
      "name": "python"
    }
  },
  "cells": [
    {
      "cell_type": "code",
      "execution_count": 2,
      "metadata": {
        "colab": {
          "base_uri": "https://localhost:8080/"
        },
        "id": "JCG6JHcM_1cs",
        "outputId": "5819daee-e3ea-46cf-9e13-8958294cd3dc"
      },
      "outputs": [
        {
          "output_type": "stream",
          "name": "stdout",
          "text": [
            "📅 Welcome to the Leap Year Checker! 📅\n",
            "\n",
            "🔹 Enter a year to check if it's a leap year: 2024\n",
            "✅ 2024 is a Leap Year! 🎉\n",
            "\n",
            "🔄 Would you like to check another year? (yes/y or no/n): 2020\n",
            "⚠️ Invalid choice! Please enter 'yes' or 'no'.\n",
            "🔄 Would you like to check another year? (yes/y or no/n): 2021\n",
            "⚠️ Invalid choice! Please enter 'yes' or 'no'.\n",
            "🔄 Would you like to check another year? (yes/y or no/n): 2019\n",
            "⚠️ Invalid choice! Please enter 'yes' or 'no'.\n",
            "🔄 Would you like to check another year? (yes/y or no/n): n\n",
            "\n",
            "🎉 Thank you for using the Leap Year Checker! Have a great day! 😊\n"
          ]
        }
      ],
      "source": [
        "def is_leap_year(year: int) -> bool:\n",
        "    \"\"\"\n",
        "    Determines if a given year is a leap year based on the Gregorian calendar rules.\n",
        "\n",
        "    A leap year:\n",
        "    - Must be divisible by 4\n",
        "    - If divisible by 100, it must also be divisible by 400\n",
        "    \"\"\"\n",
        "    if (year % 4 == 0 and year % 100 != 0) or (year % 400 == 0):\n",
        "        return True\n",
        "    return False\n",
        "\n",
        "def main():\n",
        "    \"\"\" Main function to handle user input and check leap year status \"\"\"\n",
        "    print(\"📅 Welcome to the Leap Year Checker! 📅\\n\")\n",
        "\n",
        "    while True:\n",
        "        # Get user input and validate it\n",
        "        while True:\n",
        "            try:\n",
        "                year = int(input(\"🔹 Enter a year to check if it's a leap year: \"))\n",
        "                if year < 0:\n",
        "                    print(\"🚨 Please enter a valid positive year.\")\n",
        "                else:\n",
        "                    break  # Exit loop if input is valid\n",
        "            except ValueError:\n",
        "                print(\"❌ Invalid input! Please enter a numeric year.\")\n",
        "\n",
        "        # Check and display result\n",
        "        if is_leap_year(year):\n",
        "            print(f\"✅ {year} is a Leap Year! 🎉\\n\")\n",
        "        else:\n",
        "            print(f\"❌ {year} is NOT a Leap Year.\\n\")\n",
        "\n",
        "        # Ask user if they want to check another year\n",
        "        while True:\n",
        "            restart = input(\"🔄 Would you like to check another year? (yes/y or no/n): \").strip().lower()\n",
        "            if restart in [\"yes\", \"y\"]:\n",
        "                print(\"\\n🔁 Restarting the program...\\n\")\n",
        "                break  # Restart the loop\n",
        "            elif restart in [\"no\", \"n\"]:\n",
        "                print(\"\\n🎉 Thank you for using the Leap Year Checker! Have a great day! 😊\")\n",
        "                return  # Exit the program\n",
        "            else:\n",
        "                print(\"⚠️ Invalid choice! Please enter 'yes' or 'no'.\")\n",
        "\n",
        "if __name__ == \"__main__\":\n",
        "    main()\n"
      ]
    }
  ]
}