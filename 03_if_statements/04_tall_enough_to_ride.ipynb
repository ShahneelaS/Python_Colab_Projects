{
  "nbformat": 4,
  "nbformat_minor": 0,
  "metadata": {
    "colab": {
      "provenance": []
    },
    "kernelspec": {
      "name": "python3",
      "display_name": "Python 3"
    },
    "language_info": {
      "name": "python"
    }
  },
  "cells": [
    {
      "cell_type": "code",
      "execution_count": 1,
      "metadata": {
        "colab": {
          "base_uri": "https://localhost:8080/"
        },
        "id": "vPgezNKIAylq",
        "outputId": "58620753-dc7d-492d-bd53-18d8d4eda30d"
      },
      "outputs": [
        {
          "output_type": "stream",
          "name": "stdout",
          "text": [
            "🎢 Welcome to the Amusement Park Ride Eligibility Checker! 🎢\n",
            "\n",
            "🔹 How tall is the person? (Enter height in cm or press Enter to quit): 35\n",
            "❌ You're not tall enough to ride, but maybe next year!\n",
            "\n",
            "🔄 Would you like to check another person's height? (yes or no): y\n",
            "\n",
            "🔹 How tall is the person? (Enter height in cm or press Enter to quit): 150\n",
            "✅ You're tall enough to ride!\n",
            "\n",
            "🔄 Would you like to check another person's height? (yes or no): n\n",
            "👋 Thank you for using the ride eligibility checker! Have a great day!\n"
          ]
        }
      ],
      "source": [
        "def check_height(height: float) -> str:\n",
        "    \"\"\"Function to check if the user is tall enough to ride.\"\"\"\n",
        "    MINIMUM_HEIGHT: int = 50  # Minimum height for riding in arbitrary units\n",
        "\n",
        "    # Compare height with minimum height requirement\n",
        "    if height >= MINIMUM_HEIGHT:\n",
        "        return \"✅ You're tall enough to ride!\"\n",
        "    else:\n",
        "        return \"❌ You're not tall enough to ride, but maybe next year!\"\n",
        "\n",
        "\n",
        "def main():\n",
        "    \"\"\"Main function to handle user input and print results\"\"\"\n",
        "    print(\"🎢 Welcome to the Amusement Park Ride Eligibility Checker! 🎢\")\n",
        "\n",
        "    while True:\n",
        "        try:\n",
        "            # Ask for the user's height\n",
        "            height_input = input(\"\\n🔹 How tall is the person? (Enter height in cm or press Enter to quit): \")\n",
        "\n",
        "            # If user presses enter without entering a height, exit the loop\n",
        "            if height_input == \"\":\n",
        "                print(\"👋 Thank you for using the ride eligibility checker! Have a great day!\")\n",
        "                break\n",
        "\n",
        "            # Convert the height to float\n",
        "            height = float(height_input)\n",
        "\n",
        "            # Check if the user is tall enough\n",
        "            result = check_height(height)\n",
        "            print(result)\n",
        "\n",
        "            # Ask if they want to check another person\n",
        "            while True:\n",
        "                another_check = input(\"\\n🔄 Would you like to check another person's height? (yes or no): \").strip().lower()\n",
        "                if another_check in [\"yes\", \"y\"]:\n",
        "                    break  # Restart the loop for a new person\n",
        "                elif another_check in [\"no\", \"n\"]:\n",
        "                    print(\"👋 Thank you for using the ride eligibility checker! Have a great day!\")\n",
        "                    return  # Exit the program\n",
        "                else:\n",
        "                    print(\"❌ Invalid input! Please enter 'yes/y' or 'no/n'.\")\n",
        "\n",
        "        except ValueError:\n",
        "            print(\"❌ Invalid input! Please enter a valid number for height.\")\n",
        "\n",
        "\n",
        "if __name__ == '__main__':\n",
        "    main()\n"
      ]
    }
  ]
}