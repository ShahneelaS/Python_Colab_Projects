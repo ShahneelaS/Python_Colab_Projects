{
  "nbformat": 4,
  "nbformat_minor": 0,
  "metadata": {
    "colab": {
      "provenance": []
    },
    "kernelspec": {
      "name": "python3",
      "display_name": "Python 3"
    },
    "language_info": {
      "name": "python"
    }
  },
  "cells": [
    {
      "cell_type": "code",
      "execution_count": null,
      "metadata": {
        "colab": {
          "base_uri": "https://localhost:8080/"
        },
        "id": "8x0zo4LP_Caq",
        "outputId": "8abdb104-fdde-4fc8-f8fe-37d2033546cf"
      },
      "outputs": [
        {
          "output_type": "stream",
          "name": "stdout",
          "text": [
            "🎮 Welcome to the Guess the Number Game (User Version)!\n",
            "Think of a number between 1 and 100, and I (computer) will try to guess it.\n",
            "Give me hints: 'H' for Too High, 'L' for Too Low, 'C' for Correct.\n",
            "\n",
            "🤖 Is your number 79?\n",
            "Enter 'H' (Too High), 'L' (Too Low), or 'C' (Correct): too high\n",
            "⚠ Invalid input! Please enter only 'H', 'L', or 'C'.\n",
            "\n",
            "🤖 Is your number 52?\n",
            "Enter 'H' (Too High), 'L' (Too Low), or 'C' (Correct): too high\n",
            "⚠ Invalid input! Please enter only 'H', 'L', or 'C'.\n",
            "\n",
            "🤖 Is your number 36?\n",
            "Enter 'H' (Too High), 'L' (Too Low), or 'C' (Correct): too low\n",
            "⚠ Invalid input! Please enter only 'H', 'L', or 'C'.\n",
            "\n",
            "🤖 Is your number 90?\n",
            "Enter 'H' (Too High), 'L' (Too Low), or 'C' (Correct): too high\n",
            "⚠ Invalid input! Please enter only 'H', 'L', or 'C'.\n",
            "\n",
            "🤖 Is your number 9?\n",
            "Enter 'H' (Too High), 'L' (Too Low), or 'C' (Correct): too low\n",
            "⚠ Invalid input! Please enter only 'H', 'L', or 'C'.\n",
            "\n",
            "🤖 Is your number 21?\n",
            "Enter 'H' (Too High), 'L' (Too Low), or 'C' (Correct): too low\n",
            "⚠ Invalid input! Please enter only 'H', 'L', or 'C'.\n",
            "\n",
            "🤖 Is your number 65?\n",
            "Enter 'H' (Too High), 'L' (Too Low), or 'C' (Correct): too high\n",
            "⚠ Invalid input! Please enter only 'H', 'L', or 'C'.\n",
            "\n",
            "🤖 Is your number 73?\n",
            "Enter 'H' (Too High), 'L' (Too Low), or 'C' (Correct): too high\n",
            "⚠ Invalid input! Please enter only 'H', 'L', or 'C'.\n",
            "\n",
            "🤖 Is your number 4?\n",
            "Enter 'H' (Too High), 'L' (Too Low), or 'C' (Correct): too low\n",
            "⚠ Invalid input! Please enter only 'H', 'L', or 'C'.\n",
            "\n",
            "🤖 Is your number 40?\n",
            "Enter 'H' (Too High), 'L' (Too Low), or 'C' (Correct): c\n",
            "🎉 Yay! I guessed your number in 10 attempts!\n"
          ]
        }
      ],
      "source": [
        "import random\n",
        "\n",
        "# Define range\n",
        "low = 1\n",
        "high = 100\n",
        "attempts = 0\n",
        "\n",
        "print(\"🎮 Welcome to the Guess the Number Game (User Version)!\")\n",
        "print(\"Think of a number between 1 and 100, and I (computer) will try to guess it.\")\n",
        "print(\"Give me hints: 'H' for Too High, 'L' for Too Low, 'C' for Correct.\\n\")\n",
        "\n",
        "# Computer guessing loop\n",
        "while True:\n",
        "    guess = random.randint(low, high)\n",
        "    attempts += 1\n",
        "\n",
        "    print(f\"🤖 Is your number {guess}?\")\n",
        "    feedback = input(\"Enter 'H' (Too High), 'L' (Too Low), or 'C' (Correct): \").lower()\n",
        "\n",
        "    if feedback == \"c\":\n",
        "        print(f\"🎉 Yay! I guessed your number in {attempts} attempts!\")\n",
        "        break\n",
        "    elif feedback == \"h\":\n",
        "        high = guess - 1  # Adjust range to lower half\n",
        "    elif feedback == \"l\":\n",
        "        low = guess + 1  # Adjust range to upper half\n",
        "    else:\n",
        "        print(\"⚠ Invalid input! Please enter only 'H', 'L', or 'C'.\\n\")\n"
      ]
    }
  ]
}