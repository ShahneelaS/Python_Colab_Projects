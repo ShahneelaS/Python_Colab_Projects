{
  "nbformat": 4,
  "nbformat_minor": 0,
  "metadata": {
    "colab": {
      "provenance": []
    },
    "kernelspec": {
      "name": "python3",
      "display_name": "Python 3"
    },
    "language_info": {
      "name": "python"
    }
  },
  "cells": [
    {
      "cell_type": "code",
      "execution_count": null,
      "metadata": {
        "colab": {
          "base_uri": "https://localhost:8080/"
        },
        "id": "Z0WD7hSX5iYh",
        "outputId": "b372a277-60db-42ce-92c6-3850da71ddf7"
      },
      "outputs": [
        {
          "output_type": "stream",
          "name": "stdout",
          "text": [
            "🎮 Welcome to Guess the Number Game with Levels!\n",
            "Select difficulty: Easy, Medium, Hard\n",
            "Enter difficulty level: medium\n",
            "\n",
            "🔢 The computer has chosen a number between 1 and 100.\n",
            "⏳ You have 8 attempts. Good luck!\n",
            "\n",
            "👉 Enter your guess: 50\n",
            "🔺 Too low! Try a higher number.\n",
            "🔥 You are very close!\n",
            "⏳ Remaining attempts: 7\n",
            "\n",
            "👉 Enter your guess: 55\n",
            "🔻 Too high! Try a lower number.\n",
            "🔥 You are very close!\n",
            "⏳ Remaining attempts: 6\n",
            "\n",
            "👉 Enter your guess: 52\n",
            "🔻 Too high! Try a lower number.\n",
            "🔥 You are very close!\n",
            "⏳ Remaining attempts: 5\n",
            "\n",
            "👉 Enter your guess: 51\n",
            "🎉 Congratulations! You guessed it correctly in 4 attempts!\n"
          ]
        }
      ],
      "source": [
        "import random\n",
        "\n",
        "# 🎯 Difficulty levels\n",
        "difficulty = {\n",
        "    \"easy\": (1, 50, 10),\n",
        "    \"medium\": (1, 100, 8),\n",
        "    \"hard\": (1, 200, 5)\n",
        "}\n",
        "\n",
        "print(\"🎮 Welcome to Guess the Number Game with Levels!\")\n",
        "print(\"Select difficulty: Easy, Medium, Hard\")\n",
        "level = input(\"Enter difficulty level: \").lower()\n",
        "\n",
        "# If the user enters an invalid level, default to \"medium\"\n",
        "if level not in difficulty:\n",
        "    print(\"⚠ Invalid choice! Defaulting to Medium level.\")\n",
        "    level = \"medium\"\n",
        "\n",
        "low, high, max_attempts = difficulty[level]\n",
        "\n",
        "# The computer generates a random number within the selected range\n",
        "secret_number = random.randint(low, high)\n",
        "attempts = 0\n",
        "\n",
        "print(f\"\\n🔢 The computer has chosen a number between {low} and {high}.\")\n",
        "print(f\"⏳ You have {max_attempts} attempts. Good luck!\\n\")\n",
        "\n",
        "# Game loop\n",
        "while attempts < max_attempts:\n",
        "    try:\n",
        "        guess = int(input(\"👉 Enter your guess: \"))\n",
        "    except ValueError:\n",
        "        print(\"❌ Please enter numbers only!\")\n",
        "        continue\n",
        "\n",
        "    attempts += 1\n",
        "    remaining_attempts = max_attempts - attempts\n",
        "\n",
        "    if guess < secret_number:\n",
        "        print(\"🔺 Too low! Try a higher number.\")\n",
        "    elif guess > secret_number:\n",
        "        print(\"🔻 Too high! Try a lower number.\")\n",
        "    else:\n",
        "        print(f\"🎉 Congratulations! You guessed it correctly in {attempts} attempts!\")\n",
        "        break  # End game\n",
        "\n",
        "    # Hint system\n",
        "    if abs(secret_number - guess) <= 10:\n",
        "        print(\"🔥 You are very close!\")\n",
        "\n",
        "    print(f\"⏳ Remaining attempts: {remaining_attempts}\\n\")\n",
        "\n",
        "# If the user fails to guess within the given attempts\n",
        "if attempts == max_attempts and guess != secret_number:\n",
        "    print(f\"❌ Game Over! The correct number was: {secret_number}\")\n"
      ]
    }
  ]
}