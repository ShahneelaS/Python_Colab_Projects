{
  "nbformat": 4,
  "nbformat_minor": 0,
  "metadata": {
    "colab": {
      "provenance": []
    },
    "kernelspec": {
      "name": "python3",
      "display_name": "Python 3"
    },
    "language_info": {
      "name": "python"
    }
  },
  "cells": [
    {
      "cell_type": "code",
      "execution_count": null,
      "metadata": {
        "colab": {
          "base_uri": "https://localhost:8080/"
        },
        "id": "ZDbHplBh3u6m",
        "outputId": "7e2530f4-714c-4950-c071-393bef3be9ef"
      },
      "outputs": [
        {
          "output_type": "stream",
          "name": "stdout",
          "text": [
            "Enter a noun: lion\n",
            "Enter a verb: eating\n",
            "Enter an adjective: fast\n",
            "Enter a place: Karachi\n",
            "\n",
            "Here is your Mad Libs story:\n",
            "\n",
            "One day, a fast lion decided to eating at the Karachi. It was an amazing experience!\n"
          ]
        }
      ],
      "source": [
        "# Mad Libs Game\n",
        "\n",
        "noun = input(\"Enter a noun: \")\n",
        "verb = input(\"Enter a verb: \")\n",
        "adjective = input(\"Enter an adjective: \")\n",
        "place = input(\"Enter a place: \")\n",
        "\n",
        "# Story format\n",
        "story = f\"One day, a {adjective} {noun} decided to {verb} at the {place}. It was an amazing experience!\"\n",
        "\n",
        "# Output\n",
        "print(\"\\nHere is your Mad Libs story:\\n\")\n",
        "print(story)\n"
      ]
    }
  ]
}